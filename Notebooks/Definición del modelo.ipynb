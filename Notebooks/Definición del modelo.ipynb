{
 "cells": [
  {
   "cell_type": "code",
   "execution_count": 1,
   "metadata": {},
   "outputs": [
    {
     "name": "stderr",
     "output_type": "stream",
     "text": [
      "e:\\Bootcamp\\NLP_Grupo3\\.venv\\Lib\\site-packages\\tqdm\\auto.py:21: TqdmWarning: IProgress not found. Please update jupyter and ipywidgets. See https://ipywidgets.readthedocs.io/en/stable/user_install.html\n",
      "  from .autonotebook import tqdm as notebook_tqdm\n"
     ]
    }
   ],
   "source": [
    "import pandas as pd\n",
    "import numpy as np\n",
    "from sklearn.model_selection import train_test_split, StratifiedKFold, cross_val_score\n",
    "from xgboost import XGBClassifier\n",
    "import optuna\n",
    "from sklearn.metrics import accuracy_score, confusion_matrix, classification_report, roc_curve, auc, f1_score, recall_score, log_loss\n",
    "import re\n",
    "from nltk.tokenize import word_tokenize\n",
    "from nltk.corpus import stopwords\n",
    "from nltk.stem import SnowballStemmer\n",
    "from gensim.models import KeyedVectors\n",
    "import pickle\n",
    "import nltk\n",
    "import seaborn as sns\n",
    "import matplotlib.pyplot as plt\n",
    "import mlflow\n",
    "import mlflow.xgboost\n",
    "import mlflow.sklearn"
   ]
  },
  {
   "cell_type": "markdown",
   "metadata": {},
   "source": [
    "Ejecutar el código siguiente si es la primera vez que se trabaja con nltk. Si no dejarlo comentado"
   ]
  },
  {
   "cell_type": "code",
   "execution_count": null,
   "metadata": {},
   "outputs": [
    {
     "name": "stderr",
     "output_type": "stream",
     "text": [
      "[nltk_data] Downloading package punkt_tab to /home/carri/nltk_data...\n",
      "[nltk_data]   Unzipping tokenizers/punkt_tab.zip.\n"
     ]
    },
    {
     "data": {
      "text/plain": [
       "True"
      ]
     },
     "execution_count": 7,
     "metadata": {},
     "output_type": "execute_result"
    }
   ],
   "source": [
    "# nltk.download('stopwords')\n",
    "# nltk.download('punkt_tab')\n",
    "# nltk.download('wordnet')"
   ]
  },
  {
   "cell_type": "code",
   "execution_count": 7,
   "metadata": {},
   "outputs": [],
   "source": [
    "mlflow.set_tracking_uri('http://localhost:5000')"
   ]
  },
  {
   "cell_type": "markdown",
   "metadata": {},
   "source": [
    "### Cargar el conjunto de datos"
   ]
  },
  {
   "cell_type": "code",
   "execution_count": 3,
   "metadata": {},
   "outputs": [],
   "source": [
    "df = pd.read_csv('../database/toxic.csv')"
   ]
  },
  {
   "cell_type": "markdown",
   "metadata": {},
   "source": [
    "### Procesar texto"
   ]
  },
  {
   "cell_type": "markdown",
   "metadata": {},
   "source": [
    "Para que se haga una mejor predicción usamos los vectores pre entrenados de GloVe, de tal forma que aseguramos la representatividad de los vectores extraidos del texto con embeddings.\n",
    "\n",
    "Primero definimos una función para cargar estos embeddings, que provienen de un archivo de texto que hay que descargar de https://nlp.stanford.edu/projects/glove/ aqui estamos usando el de twitter de 100d.\n",
    "\n",
    "Se genera un índice de embeddings con el contenido del txt que hemos descargado y después hay que procesar el texto. La función viene con pasos detallados, se puede encontrar más información sobre el stemming aqui: https://www.ibm.com/es-es/topics/stemming\n",
    "\n",
    "Despues de procesar el texto se pasa a embeddings utilizando el indice que hemos extraido del archivo de GloVe. La idea es convertir la lista de tokens (palabras) que hemos extraido del texto de la base de datos a un vector que represente el significado semántico de la palabra, para ello se hace una media de los embeddings de los tokens del texto.\n",
    "\n",
    "La mejor forma de entender los embeddings es echar mano de algebra matricial y ver como funciona el sumatorio de matrices y vectores."
   ]
  },
  {
   "cell_type": "code",
   "execution_count": 4,
   "metadata": {},
   "outputs": [],
   "source": [
    "def load_glove_embeddings(file_path):\n",
    "    embedding_index = {}\n",
    "    with open(file_path, encoding='utf8') as f:\n",
    "        for line in f:\n",
    "            values = line.split()\n",
    "            word = values[0]\n",
    "            coefs = np.asarray(values[1:], dtype='float32')\n",
    "            embedding_index[word] = coefs\n",
    "    return embedding_index\n",
    "\n",
    "def procesar_texto(text):\n",
    "    '''\n",
    "    1. El texto se pasa todo a minúsculas\n",
    "    2. Se eliminan todos los símbolos que pueden dar problemas\n",
    "    3. Se tokeniza el texto\n",
    "    4. Se eliminan las stop_words, básicamente preposiciones o palabras que no aportan contenido semántico, a excepción de las negaciones porque pueden dar información conrextual relevante.\n",
    "    5. Se convierten los tokens mediantes stemming, que se queda con la raiz o \"lema\" de una palabra para mejorar el rendimiento\n",
    "    '''\n",
    "    text = text.lower() \n",
    "    text = re.sub(r'[^a-zA-Z\\s]', '', text)\n",
    "    tokens = word_tokenize(text)\n",
    "\n",
    "    stop_words = set(stopwords.words('english')) - {'not', 'no', 'never'}\n",
    "    tokens = [token for token in tokens if token not in stop_words]\n",
    "\n",
    "    stemmer = SnowballStemmer('english')\n",
    "    tokens = [stemmer.stem(token) for token in tokens]\n",
    "    return tokens\n",
    "\n",
    "def text_to_embedding(tokens, embeddings_index, embedding_dim=100):\n",
    "    '''\n",
    "    1. Se inicializa el embedding (vector) vacío pero con las dimensiones especificadas (100, que coincide con las dimensiones de los embeddings descargados)\n",
    "    Este vector guarda el sumatorio acumulado de cada embedding individual de cada palabra (de 100 dimensiones también), que representará el texto completo.\n",
    "    2. Se inicia un conteo a 0, este conteo servirá para contar cuantos embeddings válidos encontramos en el índice, y si no hay se mantiene a 0 para prevenir errores futuros al dividir.\n",
    "    3. Se itera sobre la lista de tokens del texto y si se encuentra el token en el índice de embeddings, se añade el vector de la palabra al vector de embedding. Cada vez que encuentra una válido se suma 1 al conteo.\n",
    "    4. Por último se saca la media del embedding con el número de conteo para que las palabras más representadas en un texto no dominen el embedding final.\n",
    "    '''\n",
    "    embedding = np.zeros(embedding_dim)\n",
    "    count = 0\n",
    "    for token in tokens:\n",
    "        if token in embeddings_index:\n",
    "            embedding += embeddings_index[token]\n",
    "            count += 1\n",
    "    if count > 0:\n",
    "        embedding /= count\n",
    "    return embedding\n",
    "\n",
    "df['Text'] = df['Text'].apply(procesar_texto)\n",
    "\n",
    "glove_path = '../assets/glove.twitter.27B.100d.txt' # Archivo descargado de embeddings\n",
    "embeddings_index = load_glove_embeddings(glove_path)\n",
    "\n",
    "# Texto procesado a embedding\n",
    "embedding_dim = 100\n",
    "X = np.array([text_to_embedding(tokens, embeddings_index, embedding_dim) for tokens in df['Text']])\n",
    "\n",
    "y = df['IsToxic']\n",
    "\n",
    "X_train, X_test, y_train, y_test = train_test_split(X, y, test_size= 0.3, random_state= 1337)\n",
    "\n",
    "eval_set = [(X_train, y_train), (X_test, y_test)]"
   ]
  },
  {
   "cell_type": "markdown",
   "metadata": {},
   "source": [
    "### Definir busqueda de hiperparametros con optuna"
   ]
  },
  {
   "cell_type": "markdown",
   "metadata": {},
   "source": [
    "Se definen los parametros a buscar por optuna y se incluye una estratificación de K_folds para evitar el sobreajuste del modelo.\n",
    "\n",
    "Al final del documento vienen las instrucciones para cargarlo del archivo pkl si no se quiere reentrenar"
   ]
  },
  {
   "cell_type": "code",
   "execution_count": 5,
   "metadata": {},
   "outputs": [],
   "source": [
    "def objective(trial, n_splits = 5):\n",
    "    params = {\n",
    "            'n_estimators': trial.suggest_int('n_estimators', 100, 1000),\n",
    "            'learning_rate': trial.suggest_float('learning_rate', 0.01, 0.3),\n",
    "            'max_depth': trial.suggest_int('max_depth', 3, 10),\n",
    "            'min_child_weight': trial.suggest_int('min_child_weight', 1, 7),\n",
    "            'gamma': trial.suggest_float('gamma', 1e-8, 1.0, log=True),\n",
    "            'subsample': trial.suggest_float('subsample', 0.6, 1.0),\n",
    "            'colsample_bytree': trial.suggest_float('colsample_bytree', 0.6, 1.0),\n",
    "            'reg_alpha': trial.suggest_float('reg_alpha', 1e-8, 1.0, log=True),\n",
    "            'reg_lambda': trial.suggest_float('reg_lambda', 1e-8, 1.0, log=True),\n",
    "            'random_state': 42,\n",
    "            'eval_metric': 'logloss'\n",
    "        }\n",
    "    \n",
    "    skf = StratifiedKFold(n_splits = n_splits, shuffle = True, random_state = 1337)\n",
    "    scores = []\n",
    "\n",
    "    for train_idx, test_idx in skf.split(X, y):\n",
    "            X_train, X_test = X[train_idx], X[test_idx]\n",
    "            y_train, y_test = y[train_idx], y[test_idx]\n",
    "            \n",
    "            # Entrenar modelo\n",
    "            model = XGBClassifier(**params, early_stopping_rounds = 50)\n",
    "            model.fit(\n",
    "                X_train, y_train,\n",
    "                eval_set=[(X_test, y_test)],\n",
    "                verbose=False\n",
    "            )\n",
    "            \n",
    "            # Evaluar\n",
    "            pred = model.predict(X_test)\n",
    "            scores.append(f1_score(y_test, pred))\n",
    "        \n",
    "    return np.mean(scores)"
   ]
  },
  {
   "cell_type": "code",
   "execution_count": 14,
   "metadata": {},
   "outputs": [
    {
     "name": "stderr",
     "output_type": "stream",
     "text": [
      "[I 2024-11-19 18:01:46,028] A new study created in memory with name: no-name-c3d4416c-5999-4eac-bc6a-5dcae17ac829\n",
      "[I 2024-11-19 18:01:56,450] Trial 0 finished with value: 0.648631146001979 and parameters: {'n_estimators': 273, 'learning_rate': 0.08564423965004304, 'max_depth': 3, 'min_child_weight': 1, 'gamma': 0.03339849067553468, 'subsample': 0.8865451466017245, 'colsample_bytree': 0.7198006591532352, 'reg_alpha': 2.6360686861612164e-07, 'reg_lambda': 0.017505773159080043}. Best is trial 0 with value: 0.648631146001979.\n",
      "[I 2024-11-19 18:02:04,982] Trial 1 finished with value: 0.6455351691168061 and parameters: {'n_estimators': 360, 'learning_rate': 0.25584908759698977, 'max_depth': 9, 'min_child_weight': 6, 'gamma': 0.0022883108373036, 'subsample': 0.8170561393444066, 'colsample_bytree': 0.954202130393363, 'reg_alpha': 3.5137129599578653e-07, 'reg_lambda': 1.0625473717245537e-06}. Best is trial 0 with value: 0.648631146001979.\n",
      "[I 2024-11-19 18:02:19,085] Trial 2 finished with value: 0.6568841001818657 and parameters: {'n_estimators': 198, 'learning_rate': 0.08107802625458414, 'max_depth': 10, 'min_child_weight': 5, 'gamma': 5.9373930465011885e-05, 'subsample': 0.6570767565333954, 'colsample_bytree': 0.6348279284544982, 'reg_alpha': 0.001973714748788452, 'reg_lambda': 1.0947750964806425e-05}. Best is trial 2 with value: 0.6568841001818657.\n",
      "[I 2024-11-19 18:02:32,535] Trial 3 finished with value: 0.6106320232253333 and parameters: {'n_estimators': 657, 'learning_rate': 0.2342934115525347, 'max_depth': 7, 'min_child_weight': 1, 'gamma': 3.777211018236665e-08, 'subsample': 0.947981870654509, 'colsample_bytree': 0.695270141745147, 'reg_alpha': 1.2281536317750214e-06, 'reg_lambda': 5.410391439010675e-07}. Best is trial 2 with value: 0.6568841001818657.\n",
      "[I 2024-11-19 18:03:01,735] Trial 4 finished with value: 0.6406264018931358 and parameters: {'n_estimators': 821, 'learning_rate': 0.0334889614184041, 'max_depth': 6, 'min_child_weight': 2, 'gamma': 1.4080737224094014e-06, 'subsample': 0.7496519572314836, 'colsample_bytree': 0.7101616022396559, 'reg_alpha': 2.1103626815103856e-08, 'reg_lambda': 3.0021581052824735e-07}. Best is trial 2 with value: 0.6568841001818657.\n",
      "[I 2024-11-19 18:03:19,906] Trial 5 finished with value: 0.6224564034118414 and parameters: {'n_estimators': 116, 'learning_rate': 0.14365782184043108, 'max_depth': 9, 'min_child_weight': 2, 'gamma': 1.6300203009318195e-08, 'subsample': 0.8854607130435005, 'colsample_bytree': 0.6652865948230885, 'reg_alpha': 0.21986106579501072, 'reg_lambda': 0.0019067989340707918}. Best is trial 2 with value: 0.6568841001818657.\n",
      "[I 2024-11-19 18:03:34,347] Trial 6 finished with value: 0.6477136712052779 and parameters: {'n_estimators': 898, 'learning_rate': 0.07964344421448552, 'max_depth': 4, 'min_child_weight': 3, 'gamma': 0.0002825563699254648, 'subsample': 0.8206529715236557, 'colsample_bytree': 0.9069036624939921, 'reg_alpha': 4.582825361267416e-08, 'reg_lambda': 5.2897245014679295e-08}. Best is trial 2 with value: 0.6568841001818657.\n",
      "[I 2024-11-19 18:04:08,088] Trial 7 finished with value: 0.6432199876877828 and parameters: {'n_estimators': 172, 'learning_rate': 0.030890174862905934, 'max_depth': 10, 'min_child_weight': 4, 'gamma': 0.28506807102417975, 'subsample': 0.8094704798523025, 'colsample_bytree': 0.9121259883551713, 'reg_alpha': 8.668238872635e-06, 'reg_lambda': 1.0280942037713746e-05}. Best is trial 2 with value: 0.6568841001818657.\n",
      "[I 2024-11-19 18:04:22,796] Trial 8 finished with value: 0.63521948219392 and parameters: {'n_estimators': 809, 'learning_rate': 0.0930634220674672, 'max_depth': 5, 'min_child_weight': 1, 'gamma': 6.636991237879991e-05, 'subsample': 0.7479650378982633, 'colsample_bytree': 0.6967231923856639, 'reg_alpha': 1.4353474073477468e-08, 'reg_lambda': 0.042350314152637084}. Best is trial 2 with value: 0.6568841001818657.\n",
      "[I 2024-11-19 18:04:34,221] Trial 9 finished with value: 0.6092378458027892 and parameters: {'n_estimators': 415, 'learning_rate': 0.2672075301426664, 'max_depth': 8, 'min_child_weight': 3, 'gamma': 0.019682062090900152, 'subsample': 0.8298042300257094, 'colsample_bytree': 0.8045818673266587, 'reg_alpha': 0.054936358454260696, 'reg_lambda': 0.6404701622356949}. Best is trial 2 with value: 0.6568841001818657.\n",
      "[I 2024-11-19 18:04:43,058] Trial 10 finished with value: 0.6564413141110028 and parameters: {'n_estimators': 547, 'learning_rate': 0.19097187354487066, 'max_depth': 10, 'min_child_weight': 7, 'gamma': 8.71941127602446e-06, 'subsample': 0.606736895059957, 'colsample_bytree': 0.6184513615059724, 'reg_alpha': 0.0033587320084778926, 'reg_lambda': 0.00010217848741591654}. Best is trial 2 with value: 0.6568841001818657.\n",
      "[I 2024-11-19 18:04:51,873] Trial 11 finished with value: 0.6245997194820188 and parameters: {'n_estimators': 560, 'learning_rate': 0.18594992684858944, 'max_depth': 10, 'min_child_weight': 7, 'gamma': 5.235045685922791e-06, 'subsample': 0.6092176249110165, 'colsample_bytree': 0.6022733893977577, 'reg_alpha': 0.0012794928136693209, 'reg_lambda': 0.0001582570796927115}. Best is trial 2 with value: 0.6568841001818657.\n",
      "[I 2024-11-19 18:05:02,339] Trial 12 finished with value: 0.6503400631358485 and parameters: {'n_estimators': 491, 'learning_rate': 0.16520218030837414, 'max_depth': 8, 'min_child_weight': 6, 'gamma': 3.464001835706014e-06, 'subsample': 0.6265020979265812, 'colsample_bytree': 0.6124628307953581, 'reg_alpha': 0.0021595016921928706, 'reg_lambda': 4.884878395502583e-05}. Best is trial 2 with value: 0.6568841001818657.\n",
      "[I 2024-11-19 18:05:12,502] Trial 13 finished with value: 0.591152917074789 and parameters: {'n_estimators': 658, 'learning_rate': 0.20658911128623053, 'max_depth': 10, 'min_child_weight': 5, 'gamma': 7.261367345354683e-05, 'subsample': 0.6717266442463574, 'colsample_bytree': 0.8036766979220884, 'reg_alpha': 0.0005357107216308672, 'reg_lambda': 0.00041164608166019775}. Best is trial 2 with value: 0.6568841001818657.\n",
      "[I 2024-11-19 18:05:24,147] Trial 14 finished with value: 0.6341510206223435 and parameters: {'n_estimators': 270, 'learning_rate': 0.12733768028981646, 'max_depth': 8, 'min_child_weight': 7, 'gamma': 4.806996493864931e-07, 'subsample': 0.678755196471393, 'colsample_bytree': 0.7561651399884749, 'reg_alpha': 0.01917714472503379, 'reg_lambda': 1.5122874417854286e-05}. Best is trial 2 with value: 0.6568841001818657.\n",
      "[I 2024-11-19 18:05:39,834] Trial 15 finished with value: 0.6456973398344559 and parameters: {'n_estimators': 618, 'learning_rate': 0.11703982198553677, 'max_depth': 9, 'min_child_weight': 5, 'gamma': 0.0006659459573422306, 'subsample': 0.6748202407659817, 'colsample_bytree': 0.6465304023800778, 'reg_alpha': 5.5982176677603456e-05, 'reg_lambda': 4.820628070639629e-06}. Best is trial 2 with value: 0.6568841001818657.\n",
      "[I 2024-11-19 18:05:47,752] Trial 16 finished with value: 0.5943613998244103 and parameters: {'n_estimators': 457, 'learning_rate': 0.2976221634230779, 'max_depth': 7, 'min_child_weight': 6, 'gamma': 1.4579612398197261e-05, 'subsample': 0.7251728946792029, 'colsample_bytree': 0.8549301004901085, 'reg_alpha': 0.01044331935764572, 'reg_lambda': 1.5446968785018733e-08}. Best is trial 2 with value: 0.6568841001818657.\n",
      "[I 2024-11-19 18:06:09,293] Trial 17 finished with value: 0.6415482616673989 and parameters: {'n_estimators': 971, 'learning_rate': 0.059646879542265566, 'max_depth': 10, 'min_child_weight': 5, 'gamma': 2.665185955619573e-07, 'subsample': 0.6320795822950664, 'colsample_bytree': 0.6448662280483509, 'reg_alpha': 0.6131300455066349, 'reg_lambda': 0.0011951902263326246}. Best is trial 2 with value: 0.6568841001818657.\n",
      "[I 2024-11-19 18:06:17,839] Trial 18 finished with value: 0.6253370043234779 and parameters: {'n_estimators': 294, 'learning_rate': 0.20535536874883933, 'max_depth': 6, 'min_child_weight': 7, 'gamma': 2.5855568041367398e-05, 'subsample': 0.714690977553974, 'colsample_bytree': 0.760792809248104, 'reg_alpha': 9.830487853532733e-05, 'reg_lambda': 0.012857466290783688}. Best is trial 2 with value: 0.6568841001818657.\n",
      "[I 2024-11-19 18:06:32,764] Trial 19 finished with value: 0.6327801257770143 and parameters: {'n_estimators': 767, 'learning_rate': 0.1673080446015683, 'max_depth': 9, 'min_child_weight': 4, 'gamma': 0.005486685276162325, 'subsample': 0.9939133684675054, 'colsample_bytree': 0.7564763918207743, 'reg_alpha': 2.6075599141983937e-05, 'reg_lambda': 6.667595448363611e-05}. Best is trial 2 with value: 0.6568841001818657.\n",
      "[I 2024-11-19 18:06:45,267] Trial 20 finished with value: 0.6428357173709556 and parameters: {'n_estimators': 158, 'learning_rate': 0.1109036028259804, 'max_depth': 8, 'min_child_weight': 6, 'gamma': 1.9351901010027127e-07, 'subsample': 0.6048960001617056, 'colsample_bytree': 0.9934390411586895, 'reg_alpha': 0.0005041643936678179, 'reg_lambda': 2.422383686253666e-06}. Best is trial 2 with value: 0.6568841001818657.\n",
      "[I 2024-11-19 18:06:55,348] Trial 21 finished with value: 0.6484922279873405 and parameters: {'n_estimators': 489, 'learning_rate': 0.161995589762552, 'max_depth': 8, 'min_child_weight': 6, 'gamma': 3.917840101060692e-06, 'subsample': 0.6442107144111636, 'colsample_bytree': 0.6000618730598065, 'reg_alpha': 0.0037255777934885543, 'reg_lambda': 3.88015687632216e-05}. Best is trial 2 with value: 0.6568841001818657.\n",
      "[I 2024-11-19 18:07:03,719] Trial 22 finished with value: 0.6346289142555787 and parameters: {'n_estimators': 536, 'learning_rate': 0.18934206563106887, 'max_depth': 9, 'min_child_weight': 7, 'gamma': 2.164780396971352e-06, 'subsample': 0.6468112741230687, 'colsample_bytree': 0.6258977522819111, 'reg_alpha': 0.002511619019323423, 'reg_lambda': 0.0003838116338784188}. Best is trial 2 with value: 0.6568841001818657.\n",
      "[I 2024-11-19 18:07:14,409] Trial 23 finished with value: 0.6363056742396771 and parameters: {'n_estimators': 397, 'learning_rate': 0.14377449273424284, 'max_depth': 10, 'min_child_weight': 5, 'gamma': 0.0003924029016100199, 'subsample': 0.6017842162507898, 'colsample_bytree': 0.6695035610752263, 'reg_alpha': 0.06476564634934073, 'reg_lambda': 2.1353238026304135e-05}. Best is trial 2 with value: 0.6568841001818657.\n",
      "[I 2024-11-19 18:07:23,867] Trial 24 finished with value: 0.6391064405483674 and parameters: {'n_estimators': 732, 'learning_rate': 0.22892060122601715, 'max_depth': 7, 'min_child_weight': 6, 'gamma': 1.103698472045266e-05, 'subsample': 0.6963376820223202, 'colsample_bytree': 0.6242284028375551, 'reg_alpha': 0.00042584678209608355, 'reg_lambda': 0.0024814139303878254}. Best is trial 2 with value: 0.6568841001818657.\n",
      "[I 2024-11-19 18:07:44,782] Trial 25 finished with value: 0.6417617452183869 and parameters: {'n_estimators': 332, 'learning_rate': 0.05906402642598099, 'max_depth': 9, 'min_child_weight': 4, 'gamma': 3.295627281825008e-05, 'subsample': 0.645323093792115, 'colsample_bytree': 0.6629536312494322, 'reg_alpha': 0.0076951833157772225, 'reg_lambda': 0.00012963432566944787}. Best is trial 2 with value: 0.6568841001818657.\n",
      "[I 2024-11-19 18:07:54,445] Trial 26 finished with value: 0.6453718650942672 and parameters: {'n_estimators': 208, 'learning_rate': 0.17854449239634046, 'max_depth': 10, 'min_child_weight': 7, 'gamma': 9.467088427324421e-07, 'subsample': 0.7804062272274613, 'colsample_bytree': 0.602745656139032, 'reg_alpha': 1.1138345963681608e-05, 'reg_lambda': 1.4849021464896023e-07}. Best is trial 2 with value: 0.6568841001818657.\n",
      "[I 2024-11-19 18:08:05,573] Trial 27 finished with value: 0.6722038094381555 and parameters: {'n_estimators': 573, 'learning_rate': 0.13981463232848315, 'max_depth': 8, 'min_child_weight': 6, 'gamma': 5.847413182199563e-08, 'subsample': 0.6291987948111316, 'colsample_bytree': 0.632364646929345, 'reg_alpha': 0.0002431613014140326, 'reg_lambda': 2.801316905894187e-06}. Best is trial 27 with value: 0.6722038094381555.\n",
      "[I 2024-11-19 18:08:18,895] Trial 28 finished with value: 0.6498855644426891 and parameters: {'n_estimators': 584, 'learning_rate': 0.12907680308876338, 'max_depth': 9, 'min_child_weight': 5, 'gamma': 9.269588534941115e-08, 'subsample': 0.6686643455615525, 'colsample_bytree': 0.7323243478935406, 'reg_alpha': 0.00044181621889504693, 'reg_lambda': 3.054051072788676e-06}. Best is trial 27 with value: 0.6722038094381555.\n",
      "[I 2024-11-19 18:08:28,263] Trial 29 finished with value: 0.6573235162602509 and parameters: {'n_estimators': 730, 'learning_rate': 0.09217792264166577, 'max_depth': 3, 'min_child_weight': 6, 'gamma': 1.5387152748450935e-08, 'subsample': 0.8655474281913486, 'colsample_bytree': 0.6809320077947701, 'reg_alpha': 4.59404587991337e-06, 'reg_lambda': 1.196997554242e-06}. Best is trial 27 with value: 0.6722038094381555.\n",
      "[I 2024-11-19 18:08:37,187] Trial 30 finished with value: 0.6421148906765066 and parameters: {'n_estimators': 705, 'learning_rate': 0.09133730585077421, 'max_depth': 3, 'min_child_weight': 4, 'gamma': 1.8769450253642423e-08, 'subsample': 0.8695257983178678, 'colsample_bytree': 0.6775808833556722, 'reg_alpha': 4.464424668887325e-06, 'reg_lambda': 9.610445510023312e-08}. Best is trial 27 with value: 0.6722038094381555.\n",
      "[I 2024-11-19 18:08:50,091] Trial 31 finished with value: 0.6694629278337143 and parameters: {'n_estimators': 882, 'learning_rate': 0.06327318146501283, 'max_depth': 3, 'min_child_weight': 6, 'gamma': 5.908321195341571e-08, 'subsample': 0.8544835696656972, 'colsample_bytree': 0.7311508904392392, 'reg_alpha': 0.00015991245632457056, 'reg_lambda': 1.1929343437674085e-06}. Best is trial 27 with value: 0.6722038094381555.\n",
      "[I 2024-11-19 18:09:35,930] Trial 32 finished with value: 0.6621138712728438 and parameters: {'n_estimators': 901, 'learning_rate': 0.0113507952816903, 'max_depth': 3, 'min_child_weight': 6, 'gamma': 6.731721667377749e-08, 'subsample': 0.9253221641886697, 'colsample_bytree': 0.7414433881755293, 'reg_alpha': 1.8674020254135587e-06, 'reg_lambda': 1.0680724097497251e-06}. Best is trial 27 with value: 0.6722038094381555.\n",
      "[I 2024-11-19 18:10:12,942] Trial 33 finished with value: 0.6458065492897513 and parameters: {'n_estimators': 882, 'learning_rate': 0.01373138091901112, 'max_depth': 3, 'min_child_weight': 6, 'gamma': 6.252051987660165e-08, 'subsample': 0.9330864841623915, 'colsample_bytree': 0.7310005893096532, 'reg_alpha': 1.072124444928948e-06, 'reg_lambda': 8.379417352576678e-07}. Best is trial 27 with value: 0.6722038094381555.\n",
      "[I 2024-11-19 18:10:29,998] Trial 34 finished with value: 0.6573946906522659 and parameters: {'n_estimators': 951, 'learning_rate': 0.049899578711298, 'max_depth': 4, 'min_child_weight': 6, 'gamma': 1.0691618216263567e-08, 'subsample': 0.9213234818612793, 'colsample_bytree': 0.777842171368864, 'reg_alpha': 2.991455807197961e-07, 'reg_lambda': 1.0654731135766014e-06}. Best is trial 27 with value: 0.6722038094381555.\n",
      "[I 2024-11-19 18:10:52,350] Trial 35 finished with value: 0.6552785347111593 and parameters: {'n_estimators': 978, 'learning_rate': 0.044933726265885515, 'max_depth': 4, 'min_child_weight': 5, 'gamma': 1.2108921674925734e-07, 'subsample': 0.9253923966190732, 'colsample_bytree': 0.8432814236603432, 'reg_alpha': 1.5930660567890634e-07, 'reg_lambda': 2.896784753308121e-08}. Best is trial 27 with value: 0.6722038094381555.\n",
      "[I 2024-11-19 18:11:55,467] Trial 36 finished with value: 0.6561881190780527 and parameters: {'n_estimators': 910, 'learning_rate': 0.011404284191906495, 'max_depth': 4, 'min_child_weight': 6, 'gamma': 3.593512011811723e-08, 'subsample': 0.8999458352843607, 'colsample_bytree': 0.7761225930609564, 'reg_alpha': 4.478541776998799e-07, 'reg_lambda': 3.082409948003625e-07}. Best is trial 27 with value: 0.6722038094381555.\n",
      "[I 2024-11-19 18:12:14,850] Trial 37 finished with value: 0.6407416199572407 and parameters: {'n_estimators': 850, 'learning_rate': 0.061459273231105796, 'max_depth': 5, 'min_child_weight': 6, 'gamma': 3.6817714719698967e-07, 'subsample': 0.9832878293046762, 'colsample_bytree': 0.824264634592246, 'reg_alpha': 8.61867060545059e-08, 'reg_lambda': 3.224560468939528e-07}. Best is trial 27 with value: 0.6722038094381555.\n",
      "[I 2024-11-19 18:12:37,962] Trial 38 finished with value: 0.6532866085349375 and parameters: {'n_estimators': 995, 'learning_rate': 0.02837366560413265, 'max_depth': 4, 'min_child_weight': 7, 'gamma': 1.0854683007072515e-08, 'subsample': 0.9689673144414968, 'colsample_bytree': 0.7150575481632044, 'reg_alpha': 1.3991127795342855e-06, 'reg_lambda': 1.29610301593146e-06}. Best is trial 27 with value: 0.6722038094381555.\n",
      "[I 2024-11-19 18:13:04,049] Trial 39 finished with value: 0.6584752604452639 and parameters: {'n_estimators': 937, 'learning_rate': 0.04332500156405622, 'max_depth': 5, 'min_child_weight': 5, 'gamma': 4.197207970006883e-08, 'subsample': 0.8498586475029634, 'colsample_bytree': 0.7859948304117388, 'reg_alpha': 0.0001377860464759891, 'reg_lambda': 8.915029751141334e-06}. Best is trial 27 with value: 0.6722038094381555.\n",
      "[I 2024-11-19 18:13:22,676] Trial 40 finished with value: 0.645334848185572 and parameters: {'n_estimators': 798, 'learning_rate': 0.07755539926608296, 'max_depth': 5, 'min_child_weight': 5, 'gamma': 1.083844059021958e-06, 'subsample': 0.8506923418507129, 'colsample_bytree': 0.8697353939303587, 'reg_alpha': 0.00017932076033438447, 'reg_lambda': 6.795309602539528e-06}. Best is trial 27 with value: 0.6722038094381555.\n",
      "[I 2024-11-19 18:13:43,235] Trial 41 finished with value: 0.656498307120359 and parameters: {'n_estimators': 935, 'learning_rate': 0.042399376599221376, 'max_depth': 3, 'min_child_weight': 6, 'gamma': 3.673494595826516e-08, 'subsample': 0.7904224608403798, 'colsample_bytree': 0.7779697980984116, 'reg_alpha': 2.7259860019053447e-05, 'reg_lambda': 2.8261773140000866e-06}. Best is trial 27 with value: 0.6722038094381555.\n",
      "[I 2024-11-19 18:14:14,549] Trial 42 finished with value: 0.662476320158622 and parameters: {'n_estimators': 859, 'learning_rate': 0.026436522580500124, 'max_depth': 4, 'min_child_weight': 5, 'gamma': 4.83762986842911e-08, 'subsample': 0.8986093209226136, 'colsample_bytree': 0.8222274798586202, 'reg_alpha': 0.00016597436333881422, 'reg_lambda': 6.430463187751316e-07}. Best is trial 27 with value: 0.6722038094381555.\n",
      "[I 2024-11-19 18:15:02,598] Trial 43 finished with value: 0.6447913846900777 and parameters: {'n_estimators': 860, 'learning_rate': 0.018248931252176012, 'max_depth': 5, 'min_child_weight': 4, 'gamma': 5.4046715685285454e-08, 'subsample': 0.9019333246531517, 'colsample_bytree': 0.819339467057716, 'reg_alpha': 0.00011211200673735991, 'reg_lambda': 1.2745416123311038e-07}. Best is trial 27 with value: 0.6722038094381555.\n",
      "[I 2024-11-19 18:15:26,773] Trial 44 finished with value: 0.6655494739759172 and parameters: {'n_estimators': 823, 'learning_rate': 0.029107817126481222, 'max_depth': 3, 'min_child_weight': 5, 'gamma': 5.63786971850639e-07, 'subsample': 0.8362634676323052, 'colsample_bytree': 0.8802612896235069, 'reg_alpha': 0.00020803126164248826, 'reg_lambda': 5.191940667896829e-07}. Best is trial 27 with value: 0.6722038094381555.\n",
      "[I 2024-11-19 18:15:51,641] Trial 45 finished with value: 0.653636384411984 and parameters: {'n_estimators': 828, 'learning_rate': 0.026810247218131793, 'max_depth': 3, 'min_child_weight': 5, 'gamma': 1.4756655060040736e-07, 'subsample': 0.8373248945835241, 'colsample_bytree': 0.9172141109380663, 'reg_alpha': 2.5551336315479836e-05, 'reg_lambda': 5.169571649565575e-08}. Best is trial 27 with value: 0.6722038094381555.\n",
      "[I 2024-11-19 18:16:05,875] Trial 46 finished with value: 0.6293315324103765 and parameters: {'n_estimators': 780, 'learning_rate': 0.06810590261028193, 'max_depth': 3, 'min_child_weight': 3, 'gamma': 5.214123565506264e-07, 'subsample': 0.9549841067513558, 'colsample_bytree': 0.8819370565222571, 'reg_alpha': 0.0012881325506231694, 'reg_lambda': 4.957467098319912e-07}. Best is trial 27 with value: 0.6722038094381555.\n",
      "[I 2024-11-19 18:16:34,658] Trial 47 finished with value: 0.6661399645758275 and parameters: {'n_estimators': 668, 'learning_rate': 0.03369203356640075, 'max_depth': 4, 'min_child_weight': 5, 'gamma': 6.768820831603681e-07, 'subsample': 0.8852397891624771, 'colsample_bytree': 0.8906841768027504, 'reg_alpha': 5.093514490464345e-05, 'reg_lambda': 1.7495604780497123e-07}. Best is trial 27 with value: 0.6722038094381555.\n",
      "[I 2024-11-19 18:17:05,620] Trial 48 finished with value: 0.6522900559095516 and parameters: {'n_estimators': 657, 'learning_rate': 0.03376849905959685, 'max_depth': 6, 'min_child_weight': 4, 'gamma': 8.567362511447327e-07, 'subsample': 0.8133802934969139, 'colsample_bytree': 0.9367030449908438, 'reg_alpha': 0.0002707402207811585, 'reg_lambda': 1.6346486411905494e-08}. Best is trial 27 with value: 0.6722038094381555.\n",
      "[I 2024-11-19 18:17:19,423] Trial 49 finished with value: 0.6541679683766822 and parameters: {'n_estimators': 702, 'learning_rate': 0.07601078187595335, 'max_depth': 4, 'min_child_weight': 5, 'gamma': 1.9221502108170784e-07, 'subsample': 0.8875419446467228, 'colsample_bytree': 0.8939854454140252, 'reg_alpha': 5.333535469781141e-05, 'reg_lambda': 2.19465619499035e-07}. Best is trial 27 with value: 0.6722038094381555.\n",
      "[I 2024-11-19 18:17:31,043] Trial 50 finished with value: 0.6467658158236583 and parameters: {'n_estimators': 650, 'learning_rate': 0.1078080275992118, 'max_depth': 4, 'min_child_weight': 3, 'gamma': 2.2503730429780826e-08, 'subsample': 0.7701405712543221, 'colsample_bytree': 0.8419297305132228, 'reg_alpha': 0.0009834751746726452, 'reg_lambda': 7.999941400407646e-08}. Best is trial 27 with value: 0.6722038094381555.\n",
      "[I 2024-11-19 18:17:59,271] Trial 51 finished with value: 0.6653355838055135 and parameters: {'n_estimators': 884, 'learning_rate': 0.02218698530836273, 'max_depth': 3, 'min_child_weight': 5, 'gamma': 8.505403883829392e-08, 'subsample': 0.870300070052659, 'colsample_bytree': 0.9643629250415925, 'reg_alpha': 5.826414046342354e-05, 'reg_lambda': 5.151305469488739e-07}. Best is trial 27 with value: 0.6722038094381555.\n",
      "[I 2024-11-19 18:18:25,197] Trial 52 finished with value: 0.6584982189417982 and parameters: {'n_estimators': 831, 'learning_rate': 0.022183529178283243, 'max_depth': 3, 'min_child_weight': 5, 'gamma': 4.7076149817865904e-07, 'subsample': 0.8729615997937309, 'colsample_bytree': 0.9729020328246294, 'reg_alpha': 5.478931644612819e-05, 'reg_lambda': 5.168962509936446e-07}. Best is trial 27 with value: 0.6722038094381555.\n",
      "[I 2024-11-19 18:18:45,793] Trial 53 finished with value: 0.6618562343623291 and parameters: {'n_estimators': 754, 'learning_rate': 0.037937652191776784, 'max_depth': 4, 'min_child_weight': 4, 'gamma': 2.369517303033949e-06, 'subsample': 0.8296917243167311, 'colsample_bytree': 0.9397257444940418, 'reg_alpha': 1.343544703096753e-05, 'reg_lambda': 4.4844787812506465e-08}. Best is trial 27 with value: 0.6722038094381555.\n",
      "[I 2024-11-19 18:19:01,080] Trial 54 finished with value: 0.6665924857817025 and parameters: {'n_estimators': 881, 'learning_rate': 0.05298711608021306, 'max_depth': 3, 'min_child_weight': 5, 'gamma': 1.2162289014036922e-07, 'subsample': 0.895586701850883, 'colsample_bytree': 0.9687151016412066, 'reg_alpha': 0.0002815363543886768, 'reg_lambda': 1.9617592210060226e-06}. Best is trial 27 with value: 0.6722038094381555.\n",
      "[I 2024-11-19 18:19:15,002] Trial 55 finished with value: 0.674919258849944 and parameters: {'n_estimators': 586, 'learning_rate': 0.05216569034288465, 'max_depth': 3, 'min_child_weight': 5, 'gamma': 0.12507793301147976, 'subsample': 0.8491354031128862, 'colsample_bytree': 0.9686444820292115, 'reg_alpha': 0.0008954922078020264, 'reg_lambda': 2.0798073785052398e-06}. Best is trial 55 with value: 0.674919258849944.\n",
      "[I 2024-11-19 18:19:26,297] Trial 56 finished with value: 0.6475412092777229 and parameters: {'n_estimators': 605, 'learning_rate': 0.05482853762450581, 'max_depth': 3, 'min_child_weight': 1, 'gamma': 0.061502140316904534, 'subsample': 0.846858551729176, 'colsample_bytree': 0.9910222967212122, 'reg_alpha': 0.0009766363364041271, 'reg_lambda': 2.685661712253016e-05}. Best is trial 55 with value: 0.674919258849944.\n",
      "[I 2024-11-19 18:19:35,769] Trial 57 finished with value: 0.6548386221117273 and parameters: {'n_estimators': 540, 'learning_rate': 0.07501535504603887, 'max_depth': 3, 'min_child_weight': 5, 'gamma': 0.002352937006284365, 'subsample': 0.8053223422089343, 'colsample_bytree': 0.9259407053727906, 'reg_alpha': 0.0043039933115931, 'reg_lambda': 4.1443457740672795e-06}. Best is trial 55 with value: 0.674919258849944.\n",
      "[I 2024-11-19 18:19:49,617] Trial 58 finished with value: 0.6603072827704277 and parameters: {'n_estimators': 515, 'learning_rate': 0.09897093411495858, 'max_depth': 7, 'min_child_weight': 4, 'gamma': 0.8616782460500946, 'subsample': 0.9116240730034887, 'colsample_bytree': 0.9509644175180395, 'reg_alpha': 0.00029360073475833705, 'reg_lambda': 1.86705821352189e-06}. Best is trial 55 with value: 0.674919258849944.\n",
      "[I 2024-11-19 18:20:00,159] Trial 59 finished with value: 0.660296587767901 and parameters: {'n_estimators': 467, 'learning_rate': 0.06532132258348024, 'max_depth': 3, 'min_child_weight': 6, 'gamma': 0.14251309443721924, 'subsample': 0.8851520735208849, 'colsample_bytree': 0.9017888368219587, 'reg_alpha': 0.0007429835994107862, 'reg_lambda': 1.0746789660444979e-05}. Best is trial 55 with value: 0.674919258849944.\n",
      "[I 2024-11-19 18:20:13,791] Trial 60 finished with value: 0.6492721345235113 and parameters: {'n_estimators': 625, 'learning_rate': 0.05145754300316147, 'max_depth': 4, 'min_child_weight': 5, 'gamma': 7.351512465246522e-06, 'subsample': 0.8252240885468171, 'colsample_bytree': 0.9752863472103374, 'reg_alpha': 0.016882198283295236, 'reg_lambda': 2.0532015188024313e-07}. Best is trial 55 with value: 0.674919258849944.\n",
      "[I 2024-11-19 18:20:27,497] Trial 61 finished with value: 0.6603032254100707 and parameters: {'n_estimators': 690, 'learning_rate': 0.03493867739218657, 'max_depth': 3, 'min_child_weight': 5, 'gamma': 0.0001273752357061233, 'subsample': 0.8615408191547341, 'colsample_bytree': 0.9699347960737971, 'reg_alpha': 7.601158357026427e-05, 'reg_lambda': 5.5524114227631594e-06}. Best is trial 55 with value: 0.674919258849944.\n",
      "[I 2024-11-19 18:20:36,635] Trial 62 finished with value: 0.6526014381099126 and parameters: {'n_estimators': 570, 'learning_rate': 0.06721142575647163, 'max_depth': 3, 'min_child_weight': 4, 'gamma': 0.013227445095103207, 'subsample': 0.8810231733348146, 'colsample_bytree': 0.951656498642648, 'reg_alpha': 2.9625478189405802e-05, 'reg_lambda': 1.8706720526073275e-06}. Best is trial 55 with value: 0.674919258849944.\n",
      "[I 2024-11-19 18:20:43,698] Trial 63 finished with value: 0.6490631307722762 and parameters: {'n_estimators': 810, 'learning_rate': 0.08264859537885608, 'max_depth': 3, 'min_child_weight': 5, 'gamma': 2.547157063333981e-07, 'subsample': 0.8576095371743805, 'colsample_bytree': 0.9662051646998042, 'reg_alpha': 0.00024592547568141735, 'reg_lambda': 5.681144675897473e-07}. Best is trial 55 with value: 0.674919258849944.\n",
      "[I 2024-11-19 18:20:56,164] Trial 64 finished with value: 0.6498498220886179 and parameters: {'n_estimators': 881, 'learning_rate': 0.052391525532130195, 'max_depth': 3, 'min_child_weight': 2, 'gamma': 6.386605273560646e-07, 'subsample': 0.7522811602522478, 'colsample_bytree': 0.9941369851937506, 'reg_alpha': 0.0018885723308978398, 'reg_lambda': 2.854693431021164e-07}. Best is trial 55 with value: 0.674919258849944.\n",
      "[I 2024-11-19 18:21:02,072] Trial 65 finished with value: 0.6339611082613896 and parameters: {'n_estimators': 433, 'learning_rate': 0.2633546926922978, 'max_depth': 4, 'min_child_weight': 5, 'gamma': 1.772847763855192e-06, 'subsample': 0.8413048208293278, 'colsample_bytree': 0.9358544986683995, 'reg_alpha': 4.833504187256833e-05, 'reg_lambda': 1.6467730531857012e-05}. Best is trial 55 with value: 0.674919258849944.\n",
      "[I 2024-11-19 18:21:08,492] Trial 66 finished with value: 0.6480235132594986 and parameters: {'n_estimators': 782, 'learning_rate': 0.14281605658340935, 'max_depth': 3, 'min_child_weight': 6, 'gamma': 1.3099579681394773e-07, 'subsample': 0.876873457577195, 'colsample_bytree': 0.8727941695064593, 'reg_alpha': 0.0005140996601730884, 'reg_lambda': 0.29836794851906806}. Best is trial 55 with value: 0.674919258849944.\n",
      "[I 2024-11-19 18:21:40,915] Trial 67 finished with value: 0.6469554447405141 and parameters: {'n_estimators': 740, 'learning_rate': 0.022187934190168818, 'max_depth': 6, 'min_child_weight': 5, 'gamma': 8.842660587988524e-08, 'subsample': 0.8125586839843226, 'colsample_bytree': 0.705109730930862, 'reg_alpha': 7.330702586836784e-06, 'reg_lambda': 2.0188643409406005e-06}. Best is trial 55 with value: 0.674919258849944.\n",
      "[I 2024-11-19 18:21:57,766] Trial 68 finished with value: 0.6624449690613229 and parameters: {'n_estimators': 598, 'learning_rate': 0.041127990675515515, 'max_depth': 4, 'min_child_weight': 6, 'gamma': 2.1902978031174952e-08, 'subsample': 0.8907022355059874, 'colsample_bytree': 0.982934030561367, 'reg_alpha': 9.603620550344015e-05, 'reg_lambda': 4.240833165553513e-06}. Best is trial 55 with value: 0.674919258849944.\n",
      "[I 2024-11-19 18:22:02,228] Trial 69 finished with value: 0.6285492359699124 and parameters: {'n_estimators': 683, 'learning_rate': 0.2834013538004694, 'max_depth': 3, 'min_child_weight': 6, 'gamma': 3.7875611102488314e-07, 'subsample': 0.7932550886142707, 'colsample_bytree': 0.9558095982992775, 'reg_alpha': 0.0003200038251095637, 'reg_lambda': 8.987964787378938e-08}. Best is trial 55 with value: 0.674919258849944.\n",
      "[I 2024-11-19 18:22:17,628] Trial 70 finished with value: 0.653894309174794 and parameters: {'n_estimators': 914, 'learning_rate': 0.03138900628647535, 'max_depth': 3, 'min_child_weight': 7, 'gamma': 0.0015703907846952127, 'subsample': 0.9436565314502757, 'colsample_bytree': 0.9201630303276515, 'reg_alpha': 1.8992231357225275e-05, 'reg_lambda': 4.498587778121128e-07}. Best is trial 55 with value: 0.674919258849944.\n",
      "[I 2024-11-19 18:22:42,212] Trial 71 finished with value: 0.6632762951456088 and parameters: {'n_estimators': 854, 'learning_rate': 0.02145031575342729, 'max_depth': 4, 'min_child_weight': 5, 'gamma': 2.531896355136735e-07, 'subsample': 0.9087061215246319, 'colsample_bytree': 0.8568615477202773, 'reg_alpha': 0.00017008179854601297, 'reg_lambda': 7.468815847168076e-07}. Best is trial 55 with value: 0.674919258849944.\n",
      "[I 2024-11-19 18:23:10,742] Trial 72 finished with value: 0.6585121549498938 and parameters: {'n_estimators': 878, 'learning_rate': 0.01781770509068142, 'max_depth': 4, 'min_child_weight': 5, 'gamma': 2.3137184679755046e-07, 'subsample': 0.9081981047191584, 'colsample_bytree': 0.8530886675577631, 'reg_alpha': 0.00020151126482389326, 'reg_lambda': 8.961200869206787e-07}. Best is trial 55 with value: 0.674919258849944.\n",
      "[I 2024-11-19 18:23:23,588] Trial 73 finished with value: 0.664776831377143 and parameters: {'n_estimators': 954, 'learning_rate': 0.049046266329093355, 'max_depth': 3, 'min_child_weight': 5, 'gamma': 1.1238908009877181e-07, 'subsample': 0.8612079024114982, 'colsample_bytree': 0.8993317491128876, 'reg_alpha': 0.0006094239702432534, 'reg_lambda': 1.5473203197730933e-07}. Best is trial 55 with value: 0.674919258849944.\n",
      "[I 2024-11-19 18:23:28,952] Trial 74 finished with value: 0.6356347781319329 and parameters: {'n_estimators': 962, 'learning_rate': 0.2288682352625958, 'max_depth': 3, 'min_child_weight': 4, 'gamma': 9.111441830346866e-08, 'subsample': 0.8571752517570328, 'colsample_bytree': 0.89288328040825, 'reg_alpha': 0.0006782999866152271, 'reg_lambda': 2.4488850722957722e-08}. Best is trial 55 with value: 0.674919258849944.\n",
      "[I 2024-11-19 18:23:49,040] Trial 75 finished with value: 0.6591287107598335 and parameters: {'n_estimators': 932, 'learning_rate': 0.0485252560142127, 'max_depth': 7, 'min_child_weight': 5, 'gamma': 2.393090965869453e-08, 'subsample': 0.8332944851190199, 'colsample_bytree': 0.9019656524633215, 'reg_alpha': 0.0018462666126628866, 'reg_lambda': 1.6592015773731725e-07}. Best is trial 55 with value: 0.674919258849944.\n",
      "[I 2024-11-19 18:23:58,454] Trial 76 finished with value: 0.6585664368577946 and parameters: {'n_estimators': 994, 'learning_rate': 0.07038827594004197, 'max_depth': 3, 'min_child_weight': 6, 'gamma': 1.4804132449170925e-07, 'subsample': 0.8627153092294055, 'colsample_bytree': 0.9304200281240608, 'reg_alpha': 0.004528163635089196, 'reg_lambda': 4.0238155294339263e-07}. Best is trial 55 with value: 0.674919258849944.\n",
      "[I 2024-11-19 18:24:19,185] Trial 77 finished with value: 0.6430091783745866 and parameters: {'n_estimators': 914, 'learning_rate': 0.06028518695862327, 'max_depth': 8, 'min_child_weight': 4, 'gamma': 3.7548158755998706e-06, 'subsample': 0.8182343680011909, 'colsample_bytree': 0.9604484762546779, 'reg_alpha': 8.576310248804726e-05, 'reg_lambda': 1.4236069313274024e-07}. Best is trial 55 with value: 0.674919258849944.\n",
      "[I 2024-11-19 18:24:30,408] Trial 78 finished with value: 0.6530917522881838 and parameters: {'n_estimators': 634, 'learning_rate': 0.04050211036430029, 'max_depth': 3, 'min_child_weight': 5, 'gamma': 3.215312327346797e-08, 'subsample': 0.8727924932622496, 'colsample_bytree': 0.6498036222919199, 'reg_alpha': 3.76235414500154e-05, 'reg_lambda': 1.311524561098177e-06}. Best is trial 55 with value: 0.674919258849944.\n",
      "[I 2024-11-19 18:24:35,087] Trial 79 finished with value: 0.6396258276238074 and parameters: {'n_estimators': 500, 'learning_rate': 0.21021147388234535, 'max_depth': 3, 'min_child_weight': 6, 'gamma': 1.3184107367029962e-06, 'subsample': 0.8479895178471295, 'colsample_bytree': 0.8831525030272684, 'reg_alpha': 0.0004070272729923056, 'reg_lambda': 7.497862411401178e-08}. Best is trial 55 with value: 0.674919258849944.\n",
      "[I 2024-11-19 18:24:40,925] Trial 80 finished with value: 0.6366906083428805 and parameters: {'n_estimators': 827, 'learning_rate': 0.12261996146348217, 'max_depth': 3, 'min_child_weight': 5, 'gamma': 7.664389978901529e-08, 'subsample': 0.6993378692209472, 'colsample_bytree': 0.9995705841424952, 'reg_alpha': 0.0013438558952897843, 'reg_lambda': 3.3437691023405555e-06}. Best is trial 55 with value: 0.674919258849944.\n",
      "[I 2024-11-19 18:25:32,661] Trial 81 finished with value: 0.6614581709518811 and parameters: {'n_estimators': 844, 'learning_rate': 0.010803282278391037, 'max_depth': 5, 'min_child_weight': 5, 'gamma': 1.4405928373548485e-07, 'subsample': 0.9166766290642869, 'colsample_bytree': 0.8597889940828464, 'reg_alpha': 0.0001547835535586323, 'reg_lambda': 6.756574199774001e-07}. Best is trial 55 with value: 0.674919258849944.\n",
      "[I 2024-11-19 18:25:51,029] Trial 82 finished with value: 0.6483663135498168 and parameters: {'n_estimators': 884, 'learning_rate': 0.029386657194195597, 'max_depth': 4, 'min_child_weight': 5, 'gamma': 3.457147658637918e-07, 'subsample': 0.893226048604447, 'colsample_bytree': 0.9137293521052691, 'reg_alpha': 7.6016482052005e-05, 'reg_lambda': 2.573289692817843e-07}. Best is trial 55 with value: 0.674919258849944.\n",
      "[I 2024-11-19 18:26:14,983] Trial 83 finished with value: 0.6595302959707002 and parameters: {'n_estimators': 791, 'learning_rate': 0.023602218020416742, 'max_depth': 4, 'min_child_weight': 5, 'gamma': 6.892273314678496e-07, 'subsample': 0.8784367898830149, 'colsample_bytree': 0.836332441663312, 'reg_alpha': 0.00013108356992298074, 'reg_lambda': 1.7642542964324167e-06}. Best is trial 55 with value: 0.674919258849944.\n",
      "[I 2024-11-19 18:26:27,646] Trial 84 finished with value: 0.6509135102189609 and parameters: {'n_estimators': 952, 'learning_rate': 0.05615331118144025, 'max_depth': 4, 'min_child_weight': 6, 'gamma': 5.8765784056623156e-08, 'subsample': 0.9071084177698772, 'colsample_bytree': 0.9449098431315, 'reg_alpha': 0.0006522992686541672, 'reg_lambda': 8.174404426314934e-07}. Best is trial 55 with value: 0.674919258849944.\n",
      "[I 2024-11-19 18:26:47,659] Trial 85 finished with value: 0.6597652389002286 and parameters: {'n_estimators': 564, 'learning_rate': 0.04711438724734569, 'max_depth': 5, 'min_child_weight': 4, 'gamma': 2.455014178798401e-07, 'subsample': 0.9436459252465009, 'colsample_bytree': 0.8095547493615993, 'reg_alpha': 1.795508161288001e-05, 'reg_lambda': 8.752890078797545e-06}. Best is trial 55 with value: 0.674919258849944.\n",
      "[I 2024-11-19 18:26:57,093] Trial 86 finished with value: 0.6531986149231005 and parameters: {'n_estimators': 867, 'learning_rate': 0.08820907342620818, 'max_depth': 3, 'min_child_weight': 5, 'gamma': 1.546943803233157e-08, 'subsample': 0.8415149390939883, 'colsample_bytree': 0.8680483206663656, 'reg_alpha': 0.00021225726826951339, 'reg_lambda': 3.139821591758917e-08}. Best is trial 55 with value: 0.674919258849944.\n",
      "[I 2024-11-19 18:27:26,486] Trial 87 finished with value: 0.6412230543281869 and parameters: {'n_estimators': 898, 'learning_rate': 0.016399575499169844, 'max_depth': 3, 'min_child_weight': 5, 'gamma': 3.0440860423357864e-05, 'subsample': 0.8677544651174297, 'colsample_bytree': 0.6875166752591652, 'reg_alpha': 0.00033747728873393653, 'reg_lambda': 3.4635518963383857e-07}. Best is trial 55 with value: 0.674919258849944.\n",
      "[I 2024-11-19 18:27:59,909] Trial 88 finished with value: 0.656804257886613 and parameters: {'n_estimators': 932, 'learning_rate': 0.0357671986507698, 'max_depth': 8, 'min_child_weight': 6, 'gamma': 0.00019569910429659255, 'subsample': 0.8942149323563703, 'colsample_bytree': 0.9821104071451148, 'reg_alpha': 0.0008497292378208748, 'reg_lambda': 1.1730450974721599e-07}. Best is trial 55 with value: 0.674919258849944.\n",
      "[I 2024-11-19 18:28:16,630] Trial 89 finished with value: 0.6542743029509722 and parameters: {'n_estimators': 522, 'learning_rate': 0.04534903750163624, 'max_depth': 4, 'min_child_weight': 4, 'gamma': 9.748275430302153e-08, 'subsample': 0.6161302815457824, 'colsample_bytree': 0.8885086547922428, 'reg_alpha': 0.006285377984875888, 'reg_lambda': 1.2582144968382386e-06}. Best is trial 55 with value: 0.674919258849944.\n",
      "[I 2024-11-19 18:28:25,359] Trial 90 finished with value: 0.6736031406683151 and parameters: {'n_estimators': 763, 'learning_rate': 0.10240930195949166, 'max_depth': 3, 'min_child_weight': 7, 'gamma': 1.5143329688134242e-05, 'subsample': 0.929260385639288, 'colsample_bytree': 0.9073680363063261, 'reg_alpha': 0.0028269727603531846, 'reg_lambda': 2.6359159522763533e-06}. Best is trial 55 with value: 0.674919258849944.\n",
      "[I 2024-11-19 18:28:34,032] Trial 91 finished with value: 0.6551383211661459 and parameters: {'n_estimators': 815, 'learning_rate': 0.09929728335252601, 'max_depth': 3, 'min_child_weight': 7, 'gamma': 1.900663756410201e-07, 'subsample': 0.9237108661815784, 'colsample_bytree': 0.9084045179331175, 'reg_alpha': 0.002638968635749881, 'reg_lambda': 6.362390648675233e-06}. Best is trial 55 with value: 0.674919258849944.\n",
      "[I 2024-11-19 18:28:41,724] Trial 92 finished with value: 0.6579142484772695 and parameters: {'n_estimators': 846, 'learning_rate': 0.14803395578712972, 'max_depth': 3, 'min_child_weight': 7, 'gamma': 6.0881101512945967e-05, 'subsample': 0.9363132536754186, 'colsample_bytree': 0.9263595772138506, 'reg_alpha': 0.0004560297707727914, 'reg_lambda': 3.0193756255173896e-06}. Best is trial 55 with value: 0.674919258849944.\n",
      "[I 2024-11-19 18:28:53,635] Trial 93 finished with value: 0.6583359797101846 and parameters: {'n_estimators': 668, 'learning_rate': 0.06331460698725706, 'max_depth': 3, 'min_child_weight': 7, 'gamma': 2.628776901637256e-06, 'subsample': 0.9556870402513911, 'colsample_bytree': 0.8998271081145218, 'reg_alpha': 0.05679646690012539, 'reg_lambda': 2.3739613072092595e-06}. Best is trial 55 with value: 0.674919258849944.\n",
      "[I 2024-11-19 18:29:14,809] Trial 94 finished with value: 0.6516178807852181 and parameters: {'n_estimators': 897, 'learning_rate': 0.03585887887823275, 'max_depth': 3, 'min_child_weight': 5, 'gamma': 1.732792863454888e-05, 'subsample': 0.9332409757305484, 'colsample_bytree': 0.8777017819992394, 'reg_alpha': 0.015532280012418858, 'reg_lambda': 6.615364123704666e-07}. Best is trial 55 with value: 0.674919258849944.\n",
      "[I 2024-11-19 18:29:25,121] Trial 95 finished with value: 0.6524583851486023 and parameters: {'n_estimators': 765, 'learning_rate': 0.1122239293343004, 'max_depth': 4, 'min_child_weight': 7, 'gamma': 3.315486871009934e-08, 'subsample': 0.903097369004204, 'colsample_bytree': 0.8609848510949095, 'reg_alpha': 0.0015766696472306367, 'reg_lambda': 2.0913080183815277e-07}. Best is trial 55 with value: 0.674919258849944.\n",
      "[I 2024-11-19 18:29:47,478] Trial 96 finished with value: 0.6622071379617354 and parameters: {'n_estimators': 730, 'learning_rate': 0.05510004692213133, 'max_depth': 6, 'min_child_weight': 6, 'gamma': 9.99152028761488e-07, 'subsample': 0.8808905898071737, 'colsample_bytree': 0.7918373037160753, 'reg_alpha': 4.110176545426588e-05, 'reg_lambda': 1.2835113445263665e-06}. Best is trial 55 with value: 0.674919258849944.\n",
      "[I 2024-11-19 18:29:55,620] Trial 97 finished with value: 0.6314287317905597 and parameters: {'n_estimators': 798, 'learning_rate': 0.12824842201294046, 'max_depth': 3, 'min_child_weight': 5, 'gamma': 3.15721845497095e-07, 'subsample': 0.8559393750905917, 'colsample_bytree': 0.7456477245738028, 'reg_alpha': 6.89535288523938e-05, 'reg_lambda': 1.4746757141350727e-05}. Best is trial 55 with value: 0.674919258849944.\n",
      "[I 2024-11-19 18:30:07,275] Trial 98 finished with value: 0.6491347871477482 and parameters: {'n_estimators': 980, 'learning_rate': 0.07331274775256985, 'max_depth': 3, 'min_child_weight': 5, 'gamma': 5.509077600404877e-08, 'subsample': 0.9136867481475367, 'colsample_bytree': 0.9454847638214123, 'reg_alpha': 0.00011066072726097063, 'reg_lambda': 3.784685313948552e-05}. Best is trial 55 with value: 0.674919258849944.\n",
      "[I 2024-11-19 18:30:16,666] Trial 99 finished with value: 0.63883001485486 and parameters: {'n_estimators': 846, 'learning_rate': 0.08403734275078559, 'max_depth': 3, 'min_child_weight': 6, 'gamma': 0.0005900127821369176, 'subsample': 0.8263559088298016, 'colsample_bytree': 0.9630697932740562, 'reg_alpha': 0.02816435302637696, 'reg_lambda': 3.810687588415342e-07}. Best is trial 55 with value: 0.674919258849944.\n",
      "2024/11/19 18:30:31 WARNING mlflow.utils.environment: Failed to resolve installed pip version. ``pip`` will be added to conda.yaml environment spec without a version specifier.\n",
      "2024/11/19 18:30:31 WARNING mlflow.models.model: Model logged without a signature and input example. Please set `input_example` parameter when logging the model to auto infer the model signature.\n"
     ]
    },
    {
     "name": "stdout",
     "output_type": "stream",
     "text": [
      "Best parameters: {'n_estimators': 586, 'learning_rate': 0.05216569034288465, 'max_depth': 3, 'min_child_weight': 5, 'gamma': 0.12507793301147976, 'subsample': 0.8491354031128862, 'colsample_bytree': 0.9686444820292115, 'reg_alpha': 0.0008954922078020264, 'reg_lambda': 2.0798073785052398e-06}\n",
      "Accuracy: 0.64\n",
      "🏃 View run fortunate-fly-256 at: http://localhost:5000/#/experiments/0/runs/79ef20c4ad65497ea8a73a865fe3e84d\n",
      "🧪 View experiment at: http://localhost:5000/#/experiments/0\n"
     ]
    },
    {
     "data": {
      "image/png": "[encoded data removed]",
      "text/plain": [
       "<Figure size 1000x700 with 2 Axes>"
      ]
     },
     "metadata": {},
     "output_type": "display_data"
    },
    {
     "data": {
      "image/png": "[encoded data removed]",
      "text/plain": [
       "<Figure size 640x480 with 1 Axes>"
      ]
     },
     "metadata": {},
     "output_type": "display_data"
    }
   ],
   "source": [
    "with mlflow.start_run():\n",
    "\n",
    "    study = optuna.create_study(direction = 'maximize')\n",
    "    study.optimize(objective, n_trials = 100)\n",
    "\n",
    "    best_params = study.best_params\n",
    "\n",
    "    for param_name, param_value in best_params.items():\n",
    "        mlflow.log_param(param_name, param_value)\n",
    "\n",
    "    final_model = XGBClassifier(**best_params)\n",
    "    final_model.fit(X_train, y_train)\n",
    "\n",
    "    y_pred = final_model.predict(X_test)\n",
    "    accuracy = accuracy_score(y_test, y_pred)\n",
    "    recall = recall_score(y_test, y_pred)\n",
    "    f1 = f1_score(y_test, y_pred)\n",
    "    loss = log_loss(y_test, final_model.predict_proba(X_test))\n",
    "\n",
    "    mlflow.log_metric(\"accuracy\", accuracy)\n",
    "    mlflow.log_metric(\"recall\", recall)\n",
    "    mlflow.log_metric(\"f1_score\", f1)\n",
    "    mlflow.log_metric(\"log_loss\", loss)\n",
    "\n",
    "    # Log the model\n",
    "    mlflow.sklearn.log_model(final_model, \"model\")\n",
    "\n",
    "    cm = confusion_matrix(y_test, y_pred)\n",
    "    plt.figure(figsize=(10, 7))\n",
    "    sns.heatmap(cm, annot=True, fmt='d')\n",
    "    plt.title('Confusion Matrix')\n",
    "    plt.xlabel('Predicted')\n",
    "    plt.ylabel('Actual')\n",
    "    plt.savefig(\"confusion_matrix.png\")\n",
    "    mlflow.log_artifact(\"confusion_matrix.png\")\n",
    "\n",
    "    # ROC Curve\n",
    "    fpr, tpr, _ = roc_curve(y_test, final_model.predict_proba(X_test)[:, 1])\n",
    "    roc_auc = auc(fpr, tpr)\n",
    "    plt.figure()\n",
    "    plt.plot(fpr, tpr, color='darkorange', lw=2, label='ROC curve (area = %0.2f)' % roc_auc)\n",
    "    plt.plot([0, 1], [0, 1], color='navy', lw=2, linestyle='--')\n",
    "    plt.xlim([0.0, 1.0])\n",
    "    plt.ylim([0.0, 1.05])\n",
    "    plt.xlabel('False Positive Rate')\n",
    "    plt.ylabel('True Positive Rate')\n",
    "    plt.title('Receiver Operating Characteristic')\n",
    "    plt.legend(loc=\"lower right\")\n",
    "    plt.savefig(\"roc_curve.png\")\n",
    "    mlflow.log_artifact(\"roc_curve.png\")\n",
    "\n",
    "    print(f\"Best parameters: {best_params}\")\n",
    "    print(f\"Accuracy: {accuracy}\")"
   ]
  },
  {
   "cell_type": "code",
   "execution_count": 12,
   "metadata": {},
   "outputs": [],
   "source": [
    "def save_model(model, file_path):\n",
    "    \"\"\"\n",
    "    Salvar el modelo en un pickle\n",
    "    \"\"\"\n",
    "    with open(file_path, 'wb') as file:\n",
    "        pickle.dump(model, file)"
   ]
  },
  {
   "cell_type": "code",
   "execution_count": null,
   "metadata": {},
   "outputs": [],
   "source": [
    "save_model(final_model, '../models/xgb_model.pkl')"
   ]
  },
  {
   "cell_type": "code",
   "execution_count": 9,
   "metadata": {},
   "outputs": [],
   "source": [
    "def preprocess_and_embed(text, embeddings_index, embedding_dim=100):\n",
    "    # Preprocesa el texto\n",
    "    tokens = procesar_texto(text)\n",
    "    # Convierte el texto en los embeddings como vimos en el princpio\n",
    "    embedding = text_to_embedding(tokens, embeddings_index, embedding_dim)\n",
    "    return np.array([embedding])  # Devuelve un array 2d para las predicciones"
   ]
  },
  {
   "cell_type": "markdown",
   "metadata": {},
   "source": [
    "Versión para BERT"
   ]
  },
  {
   "cell_type": "code",
   "execution_count": 9,
   "metadata": {},
   "outputs": [],
   "source": [
    "df = pd.read_csv('../database/toxic.csv')"
   ]
  },
  {
   "cell_type": "code",
   "execution_count": 10,
   "metadata": {},
   "outputs": [],
   "source": [
    "from transformers import BertTokenizer, BertModel\n",
    "import torch\n",
    "\n",
    "model_name = 'bert-base-uncased'\n",
    "tokenizer = BertTokenizer.from_pretrained(model_name)\n",
    "model = BertModel.from_pretrained(model_name)\n",
    "\n",
    "def procesar_texto(text):\n",
    "    '''\n",
    "    1. El texto se pasa todo a minúsculas\n",
    "    2. Se eliminan todos los símbolos que pueden dar problemas\n",
    "    3. Se tokeniza el texto\n",
    "    4. Se eliminan las stop_words, básicamente preposiciones o palabras que no aportan contenido semántico, a excepción de las negaciones porque pueden dar información conrextual relevante.\n",
    "    5. Se convierten los tokens mediantes stemming, que se queda con la raiz o \"lema\" de una palabra para mejorar el rendimiento\n",
    "    '''\n",
    "    text = text.lower() \n",
    "    text = re.sub(r'[^a-zA-Z\\s]', '', text)\n",
    "    tokens = word_tokenize(text)\n",
    "\n",
    "    stop_words = set(stopwords.words('english')) - {'not', 'no', 'never'}\n",
    "    tokens = [token for token in tokens if token not in stop_words]\n",
    "\n",
    "    stemmer = SnowballStemmer('english')\n",
    "    tokens = [stemmer.stem(token) for token in tokens]\n",
    "    return ' '.join(tokens)\n",
    "\n",
    "def text_to_embedding(text, model, tokenizer):\n",
    "    inputs = tokenizer(text, return_tensors='pt', truncation=True, padding=True)\n",
    "    with torch.no_grad():\n",
    "        outputs = model(**inputs)\n",
    "    embeddings = outputs.last_hidden_state[:, 0, :].numpy()\n",
    "    return embeddings.flatten()\n",
    "\n",
    "df['Text'] = df['Text'].apply(procesar_texto)\n",
    "\n",
    "X = np.array([text_to_embedding(text, model, tokenizer) for text in df['Text']])\n",
    "y = df['IsToxic']\n",
    "\n",
    "X_train, X_test, y_train, y_test = train_test_split(X, y, test_size= 0.3, random_state= 1337)\n",
    "\n",
    "eval_set = [(X_train, y_train), (X_test, y_test)]"
   ]
  },
  {
   "cell_type": "code",
   "execution_count": 10,
   "metadata": {},
   "outputs": [],
   "source": [
    "def preprocess_and_embed(text, model, tokenizer):\n",
    "    text = procesar_texto(text)\n",
    "    \n",
    "    # Convierte el texto en embeddings usando BERT\n",
    "    inputs = tokenizer(text, return_tensors='pt', truncation=True, padding=True)\n",
    "    with torch.no_grad():\n",
    "        outputs = model(**inputs)\n",
    "    embeddings = outputs.last_hidden_state[:, 0, :].numpy()\n",
    "    \n",
    "    return embeddings.flatten()"
   ]
  },
  {
   "cell_type": "markdown",
   "metadata": {},
   "source": [
    "Probamos un texto evidente que contiene hate speech para comprobar que funciona"
   ]
  },
  {
   "cell_type": "code",
   "execution_count": null,
   "metadata": {},
   "outputs": [],
   "source": [
    "text = 'I hate your face you fucking idiot'\n",
    "\n",
    "processed_text= preprocess_and_embed(text, embeddings_index, embedding_dim=100)\n",
    "\n",
    "prediction = final_model.predict(processed_text)[0]\n",
    "proba = final_model.predict_proba(processed_text)[0][1]\n",
    "\n",
    "print(prediction)\n",
    "print(proba)"
   ]
  },
  {
   "cell_type": "code",
   "execution_count": 29,
   "metadata": {},
   "outputs": [
    {
     "name": "stdout",
     "output_type": "stream",
     "text": [
      "0\n",
      "0.26118556\n"
     ]
    }
   ],
   "source": [
    "text = 'Black people should not be killed'\n",
    "\n",
    "embedding = preprocess_and_embed(text, model, tokenizer)\n",
    "\n",
    "prediction = final_model.predict([embedding])[0]\n",
    "proba = final_model.predict_proba([embedding])[0][1]\n",
    "\n",
    "print(prediction)\n",
    "print(proba)"
   ]
  },
  {
   "cell_type": "code",
   "execution_count": 11,
   "metadata": {},
   "outputs": [],
   "source": [
    "def save_model(model, file_path):\n",
    "    \"\"\"\n",
    "    Salvar el modelo en un pickle\n",
    "    \"\"\"\n",
    "    with open(file_path, 'wb') as file:\n",
    "        pickle.dump(model, file)"
   ]
  },
  {
   "cell_type": "code",
   "execution_count": 54,
   "metadata": {},
   "outputs": [],
   "source": [
    "save_model(final_model, 'final_model.pkl')"
   ]
  },
  {
   "cell_type": "code",
   "execution_count": 19,
   "metadata": {},
   "outputs": [],
   "source": [
    "save_model(final_model, 'final_model_BERT.pkl')"
   ]
  },
  {
   "cell_type": "code",
   "execution_count": 55,
   "metadata": {},
   "outputs": [],
   "source": [
    "def load_model(file_path):\n",
    "    with open(file_path, 'rb') as file:\n",
    "        model = pickle.load(file)\n",
    "    return model"
   ]
  },
  {
   "cell_type": "code",
   "execution_count": 56,
   "metadata": {},
   "outputs": [],
   "source": [
    "loaded_model = load_model('final_model.pkl')"
   ]
  }
 ],
 "metadata": {
  "kernelspec": {
   "display_name": ".venv",
   "language": "python",
   "name": "python3"
  },
  "language_info": {
   "codemirror_mode": {
    "name": "ipython",
    "version": 3
   },
   "file_extension": ".py",
   "mimetype": "text/x-python",
   "name": "python",
   "nbconvert_exporter": "python",
   "pygments_lexer": "ipython3",
   "version": "3.12.6"
  }
 },
 "nbformat": 4,
 "nbformat_minor": 2
}
