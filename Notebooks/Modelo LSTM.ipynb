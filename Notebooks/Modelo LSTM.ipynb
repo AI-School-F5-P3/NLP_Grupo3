{
 "cells": [
  {
   "cell_type": "markdown",
   "metadata": {},
   "source": [
    "# Modelo LSTM"
   ]
  },
  {
   "cell_type": "markdown",
   "metadata": {},
   "source": [
    "## Versión simple con una columna objetivo"
   ]
  },
  {
   "cell_type": "code",
   "execution_count": 86,
   "metadata": {},
   "outputs": [],
   "source": [
    "import pandas as pd\n",
    "import numpy as np\n",
    "import torch\n",
    "import torch.nn as nn\n",
    "import torch.optim as optim\n",
    "from torch.utils.data import DataLoader, Dataset\n",
    "from transformers import BertTokenizer, BertModel\n",
    "from sklearn.model_selection import train_test_split\n",
    "from sklearn.metrics import accuracy_score, confusion_matrix, classification_report\n",
    "import re\n",
    "from nltk.tokenize import word_tokenize\n",
    "from nltk.corpus import stopwords\n",
    "from nltk.stem import SnowballStemmer\n",
    "import nltk\n",
    "import seaborn as sns\n",
    "import matplotlib.pyplot as plt"
   ]
  },
  {
   "cell_type": "markdown",
   "metadata": {},
   "source": [
    "Preparación de datos y procesamiento de texto"
   ]
  },
  {
   "cell_type": "code",
   "execution_count": null,
   "metadata": {},
   "outputs": [],
   "source": [
    "model_name = 'bert-base-uncased'\n",
    "tokenizer = BertTokenizer.from_pretrained(model_name)\n",
    "bert_model = BertModel.from_pretrained(model_name)\n",
    "\n",
    "def procesar_texto(text):\n",
    "    text = text.lower()\n",
    "    text = re.sub(r'[^a-zA-Z\\s]', '', text)\n",
    "    tokens = word_tokenize(text)\n",
    "    stop_words = set(stopwords.words('english')) - {'not', 'no', 'never'}\n",
    "    tokens = [token for token in tokens if token not in stop_words]\n",
    "    stemmer = SnowballStemmer('english')\n",
    "    tokens = [stemmer.stem(token) for token in tokens]\n",
    "    return ' '.join(tokens)\n",
    "\n",
    "def text_to_embedding(text, model, tokenizer):\n",
    "    inputs = tokenizer(text, return_tensors='pt', truncation=True, padding=True)\n",
    "    with torch.no_grad():\n",
    "        outputs = model(**inputs)\n",
    "    embeddings = outputs.last_hidden_state[:, 0, :].numpy()\n",
    "    return embeddings.flatten()"
   ]
  },
  {
   "cell_type": "markdown",
   "metadata": {},
   "source": [
    "Definición de clase para generar el dataset con el que entrenará la red neuronal"
   ]
  },
  {
   "cell_type": "code",
   "execution_count": 123,
   "metadata": {},
   "outputs": [],
   "source": [
    "class YouTubeCommentsDataset(Dataset):\n",
    "    def __init__(self, texts, labels, tokenizer, model):\n",
    "        self.texts = texts\n",
    "        self.labels = labels\n",
    "        self.tokenizer = tokenizer\n",
    "        self.model = model\n",
    "\n",
    "    def __len__(self):\n",
    "        return len(self.texts)\n",
    "\n",
    "    def __getitem__(self, idx):\n",
    "        text = self.texts[idx]\n",
    "        label = self.labels[idx]\n",
    "        embedding = text_to_embedding(text, self.model, self.tokenizer)\n",
    "        return torch.tensor(embedding, dtype=torch.float32), torch.tensor(label, dtype=torch.long)\n",
    "\n",
    "df = pd.read_csv('../database/toxic.csv')\n",
    "df['Text'] = df['Text'].apply(procesar_texto)\n",
    "X = df['Text'].tolist()\n",
    "y = df['IsToxic'].tolist()\n",
    "\n",
    "X_train, X_test, y_train, y_test = train_test_split(X, y, test_size=0.3, random_state=1337)\n",
    "\n",
    "train_dataset = YouTubeCommentsDataset(X_train, y_train, tokenizer, bert_model)\n",
    "test_dataset = YouTubeCommentsDataset(X_test, y_test, tokenizer, bert_model)\n",
    "\n",
    "train_loader = DataLoader(train_dataset, batch_size=32, shuffle=True)\n",
    "test_loader = DataLoader(test_dataset, batch_size=32, shuffle=False)"
   ]
  },
  {
   "cell_type": "markdown",
   "metadata": {},
   "source": [
    "Clase que define la red neuronal LSTM bidireccional"
   ]
  },
  {
   "cell_type": "code",
   "execution_count": 128,
   "metadata": {},
   "outputs": [],
   "source": [
    "class BiLSTMModel(nn.Module):\n",
    "    def __init__(self, input_dim, hidden_dim, output_dim, num_layers, dropout_rate):\n",
    "        super(BiLSTMModel, self).__init__()\n",
    "        self.hidden_dim = hidden_dim\n",
    "        self.num_layers = num_layers\n",
    "        self.lstm = nn.LSTM(input_dim, hidden_dim, num_layers, batch_first=True, bidirectional=True, dropout=dropout_rate)\n",
    "        self.fc = nn.Linear(hidden_dim * 2, output_dim)  # *2 because of bidirectional\n",
    "        self.dropout = nn.Dropout(dropout_rate)\n",
    "\n",
    "    def forward(self, x):\n",
    "        h0 = torch.zeros(self.num_layers * 2, x.size(0), self.hidden_dim).to(x.device)  # *2 because of bidirectional\n",
    "        c0 = torch.zeros(self.num_layers * 2, x.size(0), self.hidden_dim).to(x.device)  # *2 because of bidirectional\n",
    "        out, _ = self.lstm(x.unsqueeze(1), (h0, c0))\n",
    "        out = self.dropout(out[:, -1, :])\n",
    "        out = self.fc(out)\n",
    "        return out"
   ]
  },
  {
   "cell_type": "markdown",
   "metadata": {},
   "source": [
    "Busqueda de hiperparametros con optuna"
   ]
  },
  {
   "cell_type": "code",
   "execution_count": 130,
   "metadata": {},
   "outputs": [
    {
     "name": "stderr",
     "output_type": "stream",
     "text": [
      "[I 2024-11-18 21:19:23,605] A new study created in memory with name: no-name-3df99717-1bec-4fca-850f-4287681e02d8\n",
      "[I 2024-11-18 21:24:30,786] Trial 0 finished with value: 0.5533333333333333 and parameters: {'hidden_dim': 160, 'num_layers': 3, 'learning_rate': 8.281388626748556e-05, 'dropout_rate': 0.30418095495575725, 'weight_decay': 1.3457709589979254e-05}. Best is trial 0 with value: 0.5533333333333333.\n",
      "[I 2024-11-18 21:29:32,654] Trial 1 finished with value: 0.7033333333333334 and parameters: {'hidden_dim': 173, 'num_layers': 3, 'learning_rate': 0.0005068274758806248, 'dropout_rate': 0.27985487370065376, 'weight_decay': 0.00035904373328086064}. Best is trial 1 with value: 0.7033333333333334.\n",
      "e:\\Bootcamp\\NLP_Grupo3\\.venv\\Lib\\site-packages\\torch\\nn\\modules\\rnn.py:123: UserWarning: dropout option adds dropout after all but last recurrent layer, so non-zero dropout expects num_layers greater than 1, but got dropout=0.4216071572858765 and num_layers=1\n",
      "  warnings.warn(\n",
      "[I 2024-11-18 21:34:26,131] Trial 2 finished with value: 0.6633333333333333 and parameters: {'hidden_dim': 207, 'num_layers': 1, 'learning_rate': 0.0001014421204207168, 'dropout_rate': 0.4216071572858765, 'weight_decay': 6.834008696680111e-05}. Best is trial 1 with value: 0.7033333333333334.\n",
      "e:\\Bootcamp\\NLP_Grupo3\\.venv\\Lib\\site-packages\\torch\\nn\\modules\\rnn.py:123: UserWarning: dropout option adds dropout after all but last recurrent layer, so non-zero dropout expects num_layers greater than 1, but got dropout=0.11040589040667839 and num_layers=1\n",
      "  warnings.warn(\n",
      "[I 2024-11-18 21:39:36,452] Trial 3 finished with value: 0.6766666666666666 and parameters: {'hidden_dim': 77, 'num_layers': 1, 'learning_rate': 0.003344151326325987, 'dropout_rate': 0.11040589040667839, 'weight_decay': 0.0002242415342545957}. Best is trial 1 with value: 0.7033333333333334.\n",
      "e:\\Bootcamp\\NLP_Grupo3\\.venv\\Lib\\site-packages\\torch\\nn\\modules\\rnn.py:123: UserWarning: dropout option adds dropout after all but last recurrent layer, so non-zero dropout expects num_layers greater than 1, but got dropout=0.17441553790964162 and num_layers=1\n",
      "  warnings.warn(\n",
      "[I 2024-11-18 21:44:46,919] Trial 4 finished with value: 0.6866666666666666 and parameters: {'hidden_dim': 184, 'num_layers': 1, 'learning_rate': 0.0012294748738033235, 'dropout_rate': 0.17441553790964162, 'weight_decay': 2.322548443881383e-05}. Best is trial 1 with value: 0.7033333333333334.\n",
      "[I 2024-11-18 21:49:41,695] Trial 5 finished with value: 0.5533333333333333 and parameters: {'hidden_dim': 249, 'num_layers': 3, 'learning_rate': 0.0004983419914630637, 'dropout_rate': 0.3365151613258477, 'weight_decay': 0.0037717858324230113}. Best is trial 1 with value: 0.7033333333333334.\n",
      "[I 2024-11-18 21:54:18,082] Trial 6 finished with value: 0.5533333333333333 and parameters: {'hidden_dim': 140, 'num_layers': 3, 'learning_rate': 0.0002955216422661662, 'dropout_rate': 0.28403690386852687, 'weight_decay': 0.004653788493164139}. Best is trial 1 with value: 0.7033333333333334.\n",
      "[I 2024-11-18 21:58:52,564] Trial 7 finished with value: 0.5533333333333333 and parameters: {'hidden_dim': 119, 'num_layers': 2, 'learning_rate': 1.4367210928283848e-05, 'dropout_rate': 0.16061085467685157, 'weight_decay': 0.008253296595970364}. Best is trial 1 with value: 0.7033333333333334.\n",
      "e:\\Bootcamp\\NLP_Grupo3\\.venv\\Lib\\site-packages\\torch\\nn\\modules\\rnn.py:123: UserWarning: dropout option adds dropout after all but last recurrent layer, so non-zero dropout expects num_layers greater than 1, but got dropout=0.49338689707385075 and num_layers=1\n",
      "  warnings.warn(\n",
      "[I 2024-11-18 22:03:28,572] Trial 8 finished with value: 0.7033333333333334 and parameters: {'hidden_dim': 184, 'num_layers': 1, 'learning_rate': 0.0015076010793839436, 'dropout_rate': 0.49338689707385075, 'weight_decay': 0.0003104425207346996}. Best is trial 1 with value: 0.7033333333333334.\n",
      "[I 2024-11-18 22:08:50,107] Trial 9 finished with value: 0.7033333333333334 and parameters: {'hidden_dim': 153, 'num_layers': 2, 'learning_rate': 0.005286988139714229, 'dropout_rate': 0.4168479262756025, 'weight_decay': 0.00017869303383529685}. Best is trial 1 with value: 0.7033333333333334.\n",
      "[I 2024-11-18 22:13:36,347] Trial 10 finished with value: 0.5533333333333333 and parameters: {'hidden_dim': 256, 'num_layers': 3, 'learning_rate': 1.6431034075183687e-05, 'dropout_rate': 0.2484070029483321, 'weight_decay': 0.0011190259530713626}. Best is trial 1 with value: 0.7033333333333334.\n",
      "[I 2024-11-18 22:18:18,962] Trial 11 finished with value: 0.6833333333333333 and parameters: {'hidden_dim': 209, 'num_layers': 2, 'learning_rate': 0.0010183357406302637, 'dropout_rate': 0.4749396036315489, 'weight_decay': 0.0007662027693476533}. Best is trial 1 with value: 0.7033333333333334.\n",
      "e:\\Bootcamp\\NLP_Grupo3\\.venv\\Lib\\site-packages\\torch\\nn\\modules\\rnn.py:123: UserWarning: dropout option adds dropout after all but last recurrent layer, so non-zero dropout expects num_layers greater than 1, but got dropout=0.3593886401052328 and num_layers=1\n",
      "  warnings.warn(\n",
      "[I 2024-11-18 22:23:37,430] Trial 12 finished with value: 0.69 and parameters: {'hidden_dim': 194, 'num_layers': 1, 'learning_rate': 0.00972914957681017, 'dropout_rate': 0.3593886401052328, 'weight_decay': 0.0006520977818528194}. Best is trial 1 with value: 0.7033333333333334.\n",
      "[I 2024-11-18 22:29:20,301] Trial 13 finished with value: 0.6933333333333334 and parameters: {'hidden_dim': 109, 'num_layers': 2, 'learning_rate': 0.0018183481484717726, 'dropout_rate': 0.2247235614843835, 'weight_decay': 8.273702880603318e-05}. Best is trial 1 with value: 0.7033333333333334.\n",
      "[I 2024-11-18 22:35:52,981] Trial 14 finished with value: 0.6933333333333334 and parameters: {'hidden_dim': 178, 'num_layers': 2, 'learning_rate': 0.0002715323942799287, 'dropout_rate': 0.4827447004377895, 'weight_decay': 0.0013244153310587531}. Best is trial 1 with value: 0.7033333333333334.\n",
      "[I 2024-11-18 22:42:17,133] Trial 15 finished with value: 0.71 and parameters: {'hidden_dim': 221, 'num_layers': 3, 'learning_rate': 0.0006811411107722218, 'dropout_rate': 0.3898705791696494, 'weight_decay': 0.0003421797421542508}. Best is trial 15 with value: 0.71.\n",
      "[I 2024-11-18 22:48:44,889] Trial 16 finished with value: 0.64 and parameters: {'hidden_dim': 228, 'num_layers': 3, 'learning_rate': 0.00011873064278737762, 'dropout_rate': 0.3831486907615482, 'weight_decay': 9.596181373329045e-05}. Best is trial 15 with value: 0.71.\n",
      "[I 2024-11-18 22:55:43,525] Trial 17 finished with value: 0.6966666666666667 and parameters: {'hidden_dim': 227, 'num_layers': 3, 'learning_rate': 0.0005544387165673024, 'dropout_rate': 0.3098199462556765, 'weight_decay': 3.635366496204345e-05}. Best is trial 15 with value: 0.71.\n",
      "[I 2024-11-18 23:02:40,489] Trial 18 finished with value: 0.5533333333333333 and parameters: {'hidden_dim': 229, 'num_layers': 3, 'learning_rate': 3.2644913020389545e-05, 'dropout_rate': 0.24218478142395708, 'weight_decay': 0.00048325143749703537}. Best is trial 15 with value: 0.71.\n",
      "[I 2024-11-18 23:09:30,926] Trial 19 finished with value: 0.5533333333333333 and parameters: {'hidden_dim': 130, 'num_layers': 3, 'learning_rate': 0.000177598047062219, 'dropout_rate': 0.4114671063698686, 'weight_decay': 0.0019416072464633139}. Best is trial 15 with value: 0.71.\n",
      "[I 2024-11-18 23:16:22,003] Trial 20 finished with value: 0.7033333333333334 and parameters: {'hidden_dim': 99, 'num_layers': 3, 'learning_rate': 0.0006205767293638101, 'dropout_rate': 0.36169298812493683, 'weight_decay': 0.00015686550120692306}. Best is trial 15 with value: 0.71.\n",
      "[I 2024-11-18 23:23:14,464] Trial 21 finished with value: 0.7166666666666667 and parameters: {'hidden_dim': 173, 'num_layers': 2, 'learning_rate': 0.0021176218278176036, 'dropout_rate': 0.44766068960506283, 'weight_decay': 0.00033437107177432967}. Best is trial 21 with value: 0.7166666666666667.\n",
      "[I 2024-11-18 23:29:25,346] Trial 22 finished with value: 0.6933333333333334 and parameters: {'hidden_dim': 170, 'num_layers': 2, 'learning_rate': 0.0026590117209611998, 'dropout_rate': 0.44584477606816403, 'weight_decay': 0.0004491639663231657}. Best is trial 21 with value: 0.7166666666666667.\n",
      "[I 2024-11-18 23:35:54,313] Trial 23 finished with value: 0.7133333333333334 and parameters: {'hidden_dim': 204, 'num_layers': 2, 'learning_rate': 0.0007195813725281113, 'dropout_rate': 0.4434751728193007, 'weight_decay': 0.000281115168114468}. Best is trial 21 with value: 0.7166666666666667.\n",
      "[I 2024-11-18 23:41:46,565] Trial 24 finished with value: 0.71 and parameters: {'hidden_dim': 205, 'num_layers': 2, 'learning_rate': 0.004472747654577864, 'dropout_rate': 0.4525551824112616, 'weight_decay': 0.0001319047162117924}. Best is trial 21 with value: 0.7166666666666667.\n"
     ]
    },
    {
     "name": "stdout",
     "output_type": "stream",
     "text": [
      "Best hyperparameters:  {'hidden_dim': 173, 'num_layers': 2, 'learning_rate': 0.0021176218278176036, 'dropout_rate': 0.44766068960506283, 'weight_decay': 0.00033437107177432967}\n"
     ]
    }
   ],
   "source": [
    "import optuna\n",
    "\n",
    "def objective(trial):\n",
    "    hidden_dim = trial.suggest_int('hidden_dim', 64, 256)\n",
    "    num_layers = trial.suggest_int('num_layers', 1, 3)\n",
    "    learning_rate = trial.suggest_float('learning_rate', 1e-5, 1e-2, log = True)\n",
    "    dropout_rate = trial.suggest_float('dropout_rate', 0.1, 0.5)\n",
    "    weight_decay = trial.suggest_float('weight_decay', 1e-5, 1e-2, log = True)\n",
    "\n",
    "    model = BiLSTMModel(input_dim, hidden_dim, output_dim, num_layers, dropout_rate)\n",
    "    criterion = nn.CrossEntropyLoss()\n",
    "    optimizer = optim.Adam(model.parameters(), lr=learning_rate, weight_decay=weight_decay)\n",
    "\n",
    "    num_epochs = 5  # Usar menos épocas para la búsqueda de hiperparámetros\n",
    "\n",
    "    for epoch in range(num_epochs):\n",
    "        model.train()\n",
    "        for embeddings, labels in train_loader:\n",
    "            optimizer.zero_grad()\n",
    "            outputs = model(embeddings)\n",
    "            loss = criterion(outputs, labels)\n",
    "            loss.backward()\n",
    "            optimizer.step()\n",
    "\n",
    "    model.eval()\n",
    "    all_preds = []\n",
    "    all_labels = []\n",
    "    with torch.no_grad():\n",
    "        for embeddings, labels in test_loader:\n",
    "            outputs = model(embeddings)\n",
    "            _, preds = torch.max(outputs, 1)\n",
    "            all_preds.extend(preds.cpu().numpy())\n",
    "            all_labels.extend(labels.cpu().numpy())\n",
    "\n",
    "    accuracy = accuracy_score(all_labels, all_preds)\n",
    "    return accuracy\n",
    "\n",
    "# Crear un estudio de Optuna y optimizar la función de objetivo\n",
    "study = optuna.create_study(direction='maximize')\n",
    "study.optimize(objective, n_trials=25)\n",
    "\n",
    "# Mostrar los mejores hiperparámetros encontrados\n",
    "print('Best hyperparameters: ', study.best_params)"
   ]
  },
  {
   "cell_type": "code",
   "execution_count": null,
   "metadata": {},
   "outputs": [],
   "source": [
    "input_dim = 768  # BERT embedding size\n",
    "output_dim = 2  # Number of classes\n",
    "\n",
    "best_params = study.best_params\n",
    "model = BiLSTMModel(input_dim, best_params['hidden_dim'], output_dim, best_params['num_layers'], best_params['dropout_rate'])"
   ]
  },
  {
   "cell_type": "code",
   "execution_count": 132,
   "metadata": {},
   "outputs": [
    {
     "name": "stdout",
     "output_type": "stream",
     "text": [
      "Epoch 1/20, Train Loss: 0.6915, Train Accuracy: 0.5186, Val Loss: 0.6574, Val Accuracy: 0.6867\n",
      "Epoch 2/20, Train Loss: 0.6352, Train Accuracy: 0.6414, Val Loss: 0.5960, Val Accuracy: 0.6933\n",
      "Epoch 3/20, Train Loss: 0.6207, Train Accuracy: 0.6586, Val Loss: 0.6336, Val Accuracy: 0.6533\n",
      "Epoch 4/20, Train Loss: 0.5392, Train Accuracy: 0.7171, Val Loss: 0.6119, Val Accuracy: 0.6900\n",
      "Epoch 5/20, Train Loss: 0.5297, Train Accuracy: 0.7343, Val Loss: 0.5731, Val Accuracy: 0.7100\n",
      "Epoch 6/20, Train Loss: 0.4958, Train Accuracy: 0.7600, Val Loss: 0.5833, Val Accuracy: 0.6900\n",
      "Epoch 7/20, Train Loss: 0.4736, Train Accuracy: 0.7800, Val Loss: 0.5694, Val Accuracy: 0.7100\n",
      "Epoch 8/20, Train Loss: 0.4648, Train Accuracy: 0.7971, Val Loss: 0.6369, Val Accuracy: 0.6867\n",
      "Epoch 9/20, Train Loss: 0.4526, Train Accuracy: 0.7914, Val Loss: 0.6109, Val Accuracy: 0.6800\n",
      "Epoch 10/20, Train Loss: 0.4142, Train Accuracy: 0.8171, Val Loss: 0.6719, Val Accuracy: 0.6867\n",
      "Epoch 11/20, Train Loss: 0.4425, Train Accuracy: 0.8000, Val Loss: 0.6292, Val Accuracy: 0.7200\n",
      "Epoch 12/20, Train Loss: 0.4067, Train Accuracy: 0.8200, Val Loss: 0.5891, Val Accuracy: 0.7233\n",
      "Early stopping\n"
     ]
    }
   ],
   "source": [
    "criterion = nn.CrossEntropyLoss()\n",
    "criterion = nn.CrossEntropyLoss()\n",
    "optimizer = optim.Adam(model.parameters(), lr=best_params['learning_rate'], weight_decay=best_params['weight_decay'])\n",
    "\n",
    "num_epochs = 20\n",
    "\n",
    "train_losses = []\n",
    "patience = 5\n",
    "best_val_loss = float('inf')\n",
    "patience_counter = 0\n",
    "\n",
    "train_losses = []\n",
    "val_losses = []\n",
    "train_accuracies = []\n",
    "val_accuracies = []\n",
    "\n",
    "for epoch in range(num_epochs):\n",
    "    model.train()\n",
    "    running_loss = 0.0\n",
    "    correct = 0\n",
    "    total = 0\n",
    "    for embeddings, labels in train_loader:\n",
    "        optimizer.zero_grad()\n",
    "        outputs = model(embeddings)\n",
    "        loss = criterion(outputs, labels)\n",
    "        loss.backward()\n",
    "        optimizer.step()\n",
    "        \n",
    "        running_loss += loss.item()\n",
    "        _, preds = torch.max(outputs, 1)\n",
    "        correct += (preds == labels).sum().item()\n",
    "        total += labels.size(0)\n",
    "    \n",
    "    train_loss = running_loss / len(train_loader)\n",
    "    train_accuracy = correct / total\n",
    "    train_losses.append(train_loss)\n",
    "    train_accuracies.append(train_accuracy)\n",
    "    \n",
    "    model.eval()\n",
    "    running_loss = 0.0\n",
    "    correct = 0\n",
    "    total = 0\n",
    "    with torch.no_grad():\n",
    "        for embeddings, labels in test_loader:\n",
    "            outputs = model(embeddings)\n",
    "            loss = criterion(outputs, labels)\n",
    "            running_loss += loss.item()\n",
    "            _, preds = torch.max(outputs, 1)\n",
    "            correct += (preds == labels).sum().item()\n",
    "            total += labels.size(0)\n",
    "    \n",
    "    val_loss = running_loss / len(test_loader)\n",
    "    val_accuracy = correct / total\n",
    "    val_losses.append(val_loss)\n",
    "    val_accuracies.append(val_accuracy)\n",
    "    \n",
    "    print(f'Epoch {epoch+1}/{num_epochs}, Train Loss: {train_loss:.4f}, Train Accuracy: {train_accuracy:.4f}, Val Loss: {val_loss:.4f}, Val Accuracy: {val_accuracy:.4f}')\n",
    "    \n",
    "    # Early Stopping\n",
    "    if val_loss < best_val_loss:\n",
    "        best_val_loss = val_loss\n",
    "        patience_counter = 0\n",
    "        torch.save(model.state_dict(), 'best_bilstm_model.pth')\n",
    "    else:\n",
    "        patience_counter += 1\n",
    "        if patience_counter >= patience:\n",
    "            print(\"Early stopping\")\n",
    "            break"
   ]
  },
  {
   "cell_type": "code",
   "execution_count": 133,
   "metadata": {},
   "outputs": [
    {
     "name": "stdout",
     "output_type": "stream",
     "text": [
      "Accuracy: 0.7233\n",
      "Confusion Matrix:\n",
      "[[128  38]\n",
      " [ 45  89]]\n",
      "Classification Report:\n",
      "              precision    recall  f1-score   support\n",
      "\n",
      "           0       0.74      0.77      0.76       166\n",
      "           1       0.70      0.66      0.68       134\n",
      "\n",
      "    accuracy                           0.72       300\n",
      "   macro avg       0.72      0.72      0.72       300\n",
      "weighted avg       0.72      0.72      0.72       300\n",
      "\n"
     ]
    },
    {
     "data": {
      "image/png": "[encoded data removed]",
      "text/plain": [
       "<Figure size 800x600 with 2 Axes>"
      ]
     },
     "metadata": {},
     "output_type": "display_data"
    }
   ],
   "source": [
    "model.eval()\n",
    "all_preds = []\n",
    "all_labels = []\n",
    "with torch.no_grad():\n",
    "    for embeddings, labels in test_loader:\n",
    "        outputs = model(embeddings)\n",
    "        _, preds = torch.max(outputs, 1)\n",
    "        all_preds.extend(preds.cpu().numpy())\n",
    "        all_labels.extend(labels.cpu().numpy())\n",
    "\n",
    "accuracy = accuracy_score(all_labels, all_preds)\n",
    "conf_matrix = confusion_matrix(all_labels, all_preds)\n",
    "class_report = classification_report(all_labels, all_preds)\n",
    "\n",
    "print(f'Accuracy: {accuracy:.4f}')\n",
    "print('Confusion Matrix:')\n",
    "print(conf_matrix)\n",
    "print('Classification Report:')\n",
    "print(class_report)\n",
    "\n",
    "plt.figure(figsize=(8,6))\n",
    "sns.heatmap(conf_matrix, annot=True, fmt=\"d\", cmap=\"Blues\", xticklabels=[\"Not Hate\", \"Hate\"], yticklabels=[\"Not Hate\", \"Hate\"])\n",
    "plt.xlabel('Predicted Label')\n",
    "plt.ylabel('True Label')\n",
    "plt.title('Confusion Matrix')\n",
    "plt.show()"
   ]
  },
  {
   "cell_type": "code",
   "execution_count": 134,
   "metadata": {},
   "outputs": [],
   "source": [
    "def test_texts(texts, model, tokenizer, bert_model):\n",
    "    model.eval()\n",
    "    processed_texts = [procesar_texto(text) for text in texts]\n",
    "    embeddings = [text_to_embedding(text, bert_model, tokenizer) for text in processed_texts]\n",
    "    embeddings = torch.tensor(embeddings, dtype=torch.float32)\n",
    "    \n",
    "    with torch.no_grad():\n",
    "        outputs = model(embeddings)\n",
    "        _, preds = torch.max(outputs, 1)\n",
    "    \n",
    "    return preds.cpu().numpy()"
   ]
  },
  {
   "cell_type": "code",
   "execution_count": 155,
   "metadata": {},
   "outputs": [
    {
     "name": "stdout",
     "output_type": "stream",
     "text": [
      "Text: I love black people\n",
      "Prediction: Not Hate\n",
      "\n",
      "Text: I hate black people\n",
      "Prediction: Hate\n",
      "\n"
     ]
    }
   ],
   "source": [
    "texts = [\n",
    "    \"I love black people\",\n",
    "    \"I hate black people\",\n",
    "]\n",
    "\n",
    "# Obtener las predicciones\n",
    "predictions = test_texts(texts, model, tokenizer, bert_model)\n",
    "\n",
    "# Mostrar las predicciones\n",
    "for text, pred in zip(texts, predictions):\n",
    "    print(f'Text: {text}\\nPrediction: {\"Hate\" if pred == 1 else \"Not Hate\"}\\n')"
   ]
  },
  {
   "cell_type": "code",
   "execution_count": 154,
   "metadata": {},
   "outputs": [],
   "source": [
    "torch.save(model, 'final_bilstm_model_entire.pth')"
   ]
  },
  {
   "cell_type": "markdown",
   "metadata": {},
   "source": [
    "---------"
   ]
  }
 ],
 "metadata": {
  "kernelspec": {
   "display_name": ".venv",
   "language": "python",
   "name": "python3"
  },
  "language_info": {
   "codemirror_mode": {
    "name": "ipython",
    "version": 3
   },
   "file_extension": ".py",
   "mimetype": "text/x-python",
   "name": "python",
   "nbconvert_exporter": "python",
   "pygments_lexer": "ipython3",
   "version": "3.12.6"
  }
 },
 "nbformat": 4,
 "nbformat_minor": 2
}
